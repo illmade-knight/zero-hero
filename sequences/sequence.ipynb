{
 "cells": [
  {
   "cell_type": "markdown",
   "id": "623a40b8-15f3-474b-b2d8-a2e8a4559672",
   "metadata": {},
   "source": [
    "### ok lets look beyond the bigram\n",
    "\n",
    "now we look at a context length within names\n",
    "\n",
    "for 'emma' before we had\n",
    "\n",
    "* e -> m\n",
    "* m -> m\n",
    "* m -> a\n",
    "* a -> .\n",
    "\n",
    "this becomes\n",
    "\n",
    "* ...e  -> m\n",
    "* ..em  -> m\n",
    "* .emm  -> a\n",
    "* emma  -> .\n",
    "\n",
    "so now we're considering how a sequence of letters generates the following letter"
   ]
  },
  {
   "cell_type": "code",
   "execution_count": 1,
   "id": "1998a4ba-4781-49c6-93e0-cde038779ab7",
   "metadata": {},
   "outputs": [],
   "source": [
    "import torch\n",
    "import torch.nn.functional as F\n",
    "import torch.nn as nn"
   ]
  },
  {
   "cell_type": "code",
   "execution_count": 2,
   "id": "10e407ab-2f2f-4cfe-908f-8a49d0a50786",
   "metadata": {},
   "outputs": [],
   "source": [
    "# our 'new' idea\n",
    "context_length = 5\n",
    "\n",
    "# our embedding space\n",
    "embedding_dimensions = 2\n",
    "\n",
    "vocab_size = 27\n",
    "es = torch.randn(vocab_size, embedding_dimensions)"
   ]
  },
  {
   "cell_type": "markdown",
   "id": "4ea23e8c-3337-4e6f-9929-481193d958d4",
   "metadata": {
    "jp-MarkdownHeadingCollapsed": true
   },
   "source": [
    "### Same old samples"
   ]
  },
  {
   "cell_type": "code",
   "execution_count": 9,
   "id": "21bc0bff-e304-42ec-b410-a925d051a7fc",
   "metadata": {},
   "outputs": [],
   "source": [
    "with open(\"../resources/names.txt\", \"r\") as r:\n",
    "    names = [\".\" + f + \".\" for f in r.read().split()]\n",
    "\n",
    "import string\n",
    "letters = [l for l in string.ascii_lowercase]\n",
    "\n",
    "itos = {0: \".\"}\n",
    "stoi = {\".\": 0}\n",
    "\n",
    "for i, l in enumerate(letters):\n",
    "    offset = i+1\n",
    "    stoi[l] = offset\n",
    "    itos[offset] = l\n"
   ]
  },
  {
   "cell_type": "code",
   "execution_count": 10,
   "id": "c4c40a23-9089-409a-9d52-5b5fde7b2f5a",
   "metadata": {},
   "outputs": [
    {
     "data": {
      "text/plain": [
       "['.jean.', '.aslan.']"
      ]
     },
     "execution_count": 10,
     "metadata": {},
     "output_type": "execute_result"
    }
   ],
   "source": [
    "from random import randrange\n",
    "\n",
    "names_length = len(names)\n",
    "\n",
    "def sample_names(size=5):\n",
    "    batch_names = []\n",
    "    for i in range(size):\n",
    "        ni = randrange(names_length-1)\n",
    "        name = names[ni]\n",
    "        batch_names.append(name)\n",
    "    return batch_names\n",
    "\n",
    "sample_names(2)"
   ]
  },
  {
   "cell_type": "markdown",
   "id": "b312b73b-8b7e-4f4c-be29-9449a1b21afa",
   "metadata": {},
   "source": [
    "### the new part\n",
    "\n",
    "now for our xs we take the name and break it into a number of windows of length 'context_lenght' = 4"
   ]
  },
  {
   "cell_type": "code",
   "execution_count": 12,
   "id": "6bbdd29d-0ba0-4ded-9f52-d040f79626ed",
   "metadata": {},
   "outputs": [
    {
     "data": {
      "text/plain": [
       "['.....', '....t', '...ti', '..tim', '.timo', 'timot', 'imoth', 'mothy']"
      ]
     },
     "execution_count": 12,
     "metadata": {},
     "output_type": "execute_result"
    }
   ],
   "source": [
    "def word_contexts(word):\n",
    "    samples = []\n",
    "    max_length = len(word)\n",
    "    fill = '.' * context_length\n",
    "    for i in range(1,max_length):\n",
    "        st = max(0, i-context_length)\n",
    "        filled = fill[i:] + word[st:i]\n",
    "        samples.append(filled[:context_length])\n",
    "    return samples\n",
    "word_contexts(\".timothy.\")"
   ]
  },
  {
   "cell_type": "code",
   "execution_count": 13,
   "id": "81c38c1d-0dba-4cdf-b5f0-08ea67a88487",
   "metadata": {},
   "outputs": [],
   "source": [
    "def get_xys(samples):\n",
    "    xs, ys = [], []\n",
    "    for s in samples:\n",
    "        for ctx in word_contexts(s):\n",
    "            x =  [stoi[c] for c in ctx]\n",
    "            xs.append(x)\n",
    "        y = [stoi[c] for c in s[1:]]\n",
    "        ys += y\n",
    "\n",
    "    return xs, ys"
   ]
  },
  {
   "cell_type": "markdown",
   "id": "647e7d2e-1385-4835-9804-0b1254cf1f59",
   "metadata": {},
   "source": [
    "### Let's take a look \n",
    "\n",
    "our x,y now have a [n, content_length] shaped x and an 'n' sized list of labels"
   ]
  },
  {
   "cell_type": "code",
   "execution_count": 15,
   "id": "d79e625d-4b90-47a7-b2d8-35daf2a6f89d",
   "metadata": {},
   "outputs": [
    {
     "name": "stdout",
     "output_type": "stream",
     "text": [
      "torch.Size([14, 5]) tensor([[ 0,  0,  0,  0,  0],\n",
      "        [ 0,  0,  0,  0, 10],\n",
      "        [ 0,  0,  0, 10,  1],\n",
      "        [ 0,  0, 10,  1, 25],\n",
      "        [ 0, 10,  1, 25, 22],\n",
      "        [10,  1, 25, 22,  9],\n",
      "        [ 1, 25, 22,  9,  1],\n",
      "        [25, 22,  9,  1, 14],\n",
      "        [ 0,  0,  0,  0,  0],\n",
      "        [ 0,  0,  0,  0, 13],\n",
      "        [ 0,  0,  0, 13,  5],\n",
      "        [ 0,  0, 13,  5, 18],\n",
      "        [ 0, 13,  5, 18,  3],\n",
      "        [13,  5, 18,  3,  9]])\n"
     ]
    },
    {
     "data": {
      "text/plain": [
       "(torch.Size([14]),\n",
       " tensor([10,  1, 25, 22,  9,  1, 14,  0, 13,  5, 18,  3,  9,  0]))"
      ]
     },
     "execution_count": 15,
     "metadata": {},
     "output_type": "execute_result"
    }
   ],
   "source": [
    "x, y = get_xys(sample_names(2))\n",
    "X, Y = torch.tensor(x), torch.tensor(y)\n",
    "print(X.shape, X)\n",
    "Y.shape, Y"
   ]
  },
  {
   "cell_type": "markdown",
   "id": "79fa1191-27b6-4f65-b48a-114d1b1ce261",
   "metadata": {},
   "source": [
    "## OK lets run this and see what happens..."
   ]
  },
  {
   "cell_type": "code",
   "execution_count": 16,
   "id": "7cd98882-38fe-49bb-a461-033d0c4256ca",
   "metadata": {},
   "outputs": [],
   "source": [
    "es = torch.randn((vocab_size, embedding_dimensions), requires_grad=True)\n",
    "W1 = torch.randn((embedding_dimensions*context_length, 100), requires_grad=True)\n",
    "b1 = torch.randn(100, requires_grad=True)\n",
    "W2 = torch.randn((100, 27), requires_grad=True)\n",
    "b2 = torch.randn(27, requires_grad=True)\n",
    "\n",
    "parameters = [es, W1, b1, W2, b2]"
   ]
  },
  {
   "cell_type": "code",
   "execution_count": 17,
   "id": "88c86409-6c7a-43b1-ab79-f74c43964fe6",
   "metadata": {},
   "outputs": [],
   "source": [
    "names_length = len(names)\n",
    "epochs = 120\n",
    "batch_size = 800\n",
    "learning_rate = .2\n",
    "samples = 1000"
   ]
  },
  {
   "cell_type": "code",
   "execution_count": 23,
   "id": "9035d60c-d95d-4871-88b8-3ffdcfa061c3",
   "metadata": {},
   "outputs": [
    {
     "name": "stdout",
     "output_type": "stream",
     "text": [
      "0 0.05927731747984169\n",
      "tensor(2.2522, grad_fn=<DivBackward0>)\n",
      "10 0.053609343383374905\n",
      "tensor(2.2504, grad_fn=<DivBackward0>)\n",
      "20 0.04848332920891612\n",
      "tensor(2.2487, grad_fn=<DivBackward0>)\n",
      "30 0.043847453873294535\n",
      "tensor(2.2482, grad_fn=<DivBackward0>)\n",
      "40 0.03965485131778294\n",
      "tensor(2.2468, grad_fn=<DivBackward0>)\n",
      "50 0.03586313671894215\n",
      "tensor(2.2469, grad_fn=<DivBackward0>)\n",
      "60 0.032433978002201345\n",
      "tensor(2.2458, grad_fn=<DivBackward0>)\n",
      "70 0.02933270832642077\n",
      "tensor(2.2449, grad_fn=<DivBackward0>)\n",
      "80 0.026527975621876455\n",
      "tensor(2.2434, grad_fn=<DivBackward0>)\n",
      "90 0.023991425638695604\n",
      "tensor(2.2433, grad_fn=<DivBackward0>)\n",
      "100 0.02169741530154296\n",
      "tensor(2.2429, grad_fn=<DivBackward0>)\n",
      "110 0.019622753472737207\n",
      "tensor(2.2433, grad_fn=<DivBackward0>)\n"
     ]
    }
   ],
   "source": [
    "for ep in range(epochs):\n",
    "    epoch_loss = 0\n",
    "    for s in range(samples):\n",
    "        x, y = get_xys(sample_names(batch_size))\n",
    "        X = torch.tensor(x)\n",
    "        Y = torch.tensor(y)\n",
    "        train = es[X.view(-1)]\n",
    "        l_in = train.view(-1, embedding_dimensions * context_length)\n",
    "        # print(\"linear input\", l_in)\n",
    "        outputL1 = torch.relu(l_in @ W1 + b1)\n",
    "        \n",
    "        logits = outputL1 @ W2 + b2\n",
    "        # print(\"cross_entropy input\", logits.shape, Y.shape)\n",
    "        \n",
    "        loss = F.cross_entropy(logits, Y)\n",
    "\n",
    "        epoch_loss += loss\n",
    "\n",
    "        for p in parameters:\n",
    "            p.grad = None\n",
    "        \n",
    "        loss.backward()\n",
    "\n",
    "        for p in parameters:\n",
    "            p.data -= learning_rate * p.grad\n",
    "        \n",
    "    learning_rate *= .99\n",
    "\n",
    "    if ep % 10 == 0:\n",
    "        print(ep, learning_rate)\n",
    "        print(epoch_loss/samples)"
   ]
  },
  {
   "cell_type": "code",
   "execution_count": 19,
   "id": "6466eaa0-86ee-48fa-b805-9a3bb3fa545d",
   "metadata": {},
   "outputs": [
    {
     "name": "stdout",
     "output_type": "stream",
     "text": [
      "adaro\n"
     ]
    }
   ],
   "source": [
    "def generate_names(num_names):\n",
    "    for i in range(num_names):\n",
    "        out = []\n",
    "        ix = [0, 0, 0, 0, 0]\n",
    "        for nl in range(10):\n",
    "            xenc = es[ix]\n",
    "\n",
    "            outputL1 = torch.relu(xenc.view(-1, 2 * context_length) @ W1 + b1)\n",
    "            logits = outputL1 @ W2 + b2\n",
    "            \n",
    "            p = F.softmax(logits, dim=1)\n",
    "    \n",
    "            # ## torch.multinomial pulls out an index in p (num_samples=1) by sampling from the elements in p according to their probabilities \n",
    "            # ## (p is normalized in the softmax above)\n",
    "            prediction = torch.multinomial(p, num_samples=1).item()\n",
    "            \n",
    "            ix = [ix[1], ix[2], ix[3], ix[4], prediction]\n",
    "\n",
    "            if prediction == 0:\n",
    "                break\n",
    "            out.append(itos[prediction])\n",
    "            \n",
    "        print(\"\".join(out))\n",
    "\n",
    "generate_names(1)"
   ]
  },
  {
   "cell_type": "code",
   "execution_count": 20,
   "id": "964cdce5-effd-45a8-be31-2a37ad9ac7c7",
   "metadata": {},
   "outputs": [
    {
     "name": "stdout",
     "output_type": "stream",
     "text": [
      "jonese\n",
      "triramo\n",
      "makgi\n",
      "edzhey\n",
      "artin\n",
      "cuhabai\n",
      "daken\n",
      "jarinna\n",
      "aeris\n",
      "ralin\n",
      "wyckul\n",
      "sonna\n",
      "amara\n",
      "jahli\n",
      "jais\n"
     ]
    }
   ],
   "source": [
    "generate_names(15)"
   ]
  },
  {
   "cell_type": "markdown",
   "id": "e4c41ebc-9596-4dc9-a816-59cefc0abd3c",
   "metadata": {},
   "source": [
    "## Better everything\n",
    "\n",
    "our names are definitely better also maybe more interesting are plots of our embedding space\n",
    "\n",
    "below are plots from separate runs with randomly generated parameters\n",
    "\n",
    "all the plots group a, e, i, o, u and y...\n",
    "\n",
    ". (dot) is an outlier\n",
    "\n",
    "the constants are interesting too\n",
    "\n",
    "c, p, g, s, b, t cluster \n",
    "\n",
    "k, d cluster etc...\n",
    "\n",
    "so we're both making better words and discovering some underlying order\n",
    "\n",
    "for some reason n and h seem pulled towards the vowels too"
   ]
  },
  {
   "cell_type": "code",
   "execution_count": 21,
   "id": "53d9d7a8-9d72-4161-a2c0-f96025b1f11a",
   "metadata": {},
   "outputs": [],
   "source": [
    "import matplotlib.pyplot as plt"
   ]
  },
  {
   "cell_type": "code",
   "execution_count": 22,
   "id": "c9ee12d6-6c1b-4ac3-a2b8-83ffa27607d4",
   "metadata": {},
   "outputs": [
    {
     "data": {
      "image/png": "[encoded data removed]",
      "text/plain": [
       "<Figure size 640x480 with 1 Axes>"
      ]
     },
     "metadata": {},
     "output_type": "display_data"
    }
   ],
   "source": [
    "x = es.T[0].tolist()\n",
    "y = es.T[1].tolist()\n",
    "n = ['.'] + letters\n",
    "\n",
    "fig, ax = plt.subplots()\n",
    "ax.scatter(x, y)\n",
    "\n",
    "for i, txt in enumerate(n):\n",
    "    ax.annotate(txt, (x[i], y[i]))"
   ]
  },
  {
   "cell_type": "code",
   "execution_count": 24,
   "id": "2a9d3cb0-6d93-406e-8c23-4bf12428e045",
   "metadata": {},
   "outputs": [
    {
     "data": {
      "image/png": "[encoded data removed]",
      "text/plain": [
       "<Figure size 640x480 with 1 Axes>"
      ]
     },
     "metadata": {},
     "output_type": "display_data"
    }
   ],
   "source": [
    "x = es.T[0].tolist()\n",
    "y = es.T[1].tolist()\n",
    "n = ['.'] + letters\n",
    "\n",
    "fig, ax = plt.subplots()\n",
    "ax.scatter(x, y)\n",
    "\n",
    "for i, txt in enumerate(n):\n",
    "    ax.annotate(txt, (x[i], y[i]))"
   ]
  },
  {
   "cell_type": "markdown",
   "id": "1d68cfb0-e0fb-41ff-af51-c52474a4bfff",
   "metadata": {},
   "source": [
    "### Next time\n",
    "\n",
    "we'll look what happens with [more dimensions](more_dimensions.ipynb)"
   ]
  }
 ],
 "metadata": {
  "kernelspec": {
   "display_name": "Python 3 (ipykernel)",
   "language": "python",
   "name": "python3"
  },
  "language_info": {
   "codemirror_mode": {
    "name": "ipython",
    "version": 3
   },
   "file_extension": ".py",
   "mimetype": "text/x-python",
   "name": "python",
   "nbconvert_exporter": "python",
   "pygments_lexer": "ipython3",
   "version": "3.11.7"
  }
 },
 "nbformat": 4,
 "nbformat_minor": 5
}
