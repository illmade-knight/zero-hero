{
 "cells": [
  {
   "cell_type": "code",
   "execution_count": 55,
   "id": "20662a05-a7b0-4c62-915c-48c22c98f8d6",
   "metadata": {},
   "outputs": [],
   "source": [
    "import re\n",
    "import random\n",
    "import itertools"
   ]
  },
  {
   "cell_type": "code",
   "execution_count": 72,
   "id": "f574a219-3964-45f6-b758-61a0cfa5f40e",
   "metadata": {},
   "outputs": [
    {
     "ename": "TypeError",
     "evalue": "expected str, bytes or os.PathLike object, not tuple",
     "output_type": "error",
     "traceback": [
      "\u001b[1;31m---------------------------------------------------------------------------\u001b[0m",
      "\u001b[1;31mTypeError\u001b[0m                                 Traceback (most recent call last)",
      "Cell \u001b[1;32mIn[72], line 7\u001b[0m\n\u001b[0;32m      4\u001b[0m         \u001b[38;5;28;01mwith\u001b[39;00m \u001b[38;5;28mopen\u001b[39m(books, \u001b[38;5;124m'\u001b[39m\u001b[38;5;124mr\u001b[39m\u001b[38;5;124m'\u001b[39m, encoding\u001b[38;5;241m=\u001b[39m\u001b[38;5;124m'\u001b[39m\u001b[38;5;124mutf-8\u001b[39m\u001b[38;5;124m'\u001b[39m) \u001b[38;5;28;01mas\u001b[39;00m f:\n\u001b[0;32m      5\u001b[0m             lines \u001b[38;5;241m=\u001b[39m f\u001b[38;5;241m.\u001b[39mreadlines()\n\u001b[1;32m----> 7\u001b[0m s \u001b[38;5;241m=\u001b[39m \u001b[43mSimple\u001b[49m\u001b[43m(\u001b[49m\u001b[38;5;124;43m\"\u001b[39;49m\u001b[38;5;124;43malice.txt\u001b[39;49m\u001b[38;5;124;43m\"\u001b[39;49m\u001b[43m)\u001b[49m\n\u001b[0;32m      9\u001b[0m s \u001b[38;5;241m=\u001b[39m Simple(\u001b[38;5;124m\"\u001b[39m\u001b[38;5;124mhi\u001b[39m\u001b[38;5;124m\"\u001b[39m, \u001b[38;5;124m\"\u001b[39m\u001b[38;5;124mthere\u001b[39m\u001b[38;5;124m\"\u001b[39m, \u001b[38;5;241m40\u001b[39m)\n",
      "Cell \u001b[1;32mIn[72], line 4\u001b[0m, in \u001b[0;36mSimple.__init__\u001b[1;34m(self, *books)\u001b[0m\n\u001b[0;32m      2\u001b[0m \u001b[38;5;28;01mdef\u001b[39;00m \u001b[38;5;21m__init__\u001b[39m(\u001b[38;5;28mself\u001b[39m, \u001b[38;5;241m*\u001b[39mbooks):\n\u001b[1;32m----> 4\u001b[0m     \u001b[38;5;28;01mwith\u001b[39;00m \u001b[38;5;28;43mopen\u001b[39;49m\u001b[43m(\u001b[49m\u001b[43mbooks\u001b[49m\u001b[43m,\u001b[49m\u001b[43m \u001b[49m\u001b[38;5;124;43m'\u001b[39;49m\u001b[38;5;124;43mr\u001b[39;49m\u001b[38;5;124;43m'\u001b[39;49m\u001b[43m,\u001b[49m\u001b[43m \u001b[49m\u001b[43mencoding\u001b[49m\u001b[38;5;241;43m=\u001b[39;49m\u001b[38;5;124;43m'\u001b[39;49m\u001b[38;5;124;43mutf-8\u001b[39;49m\u001b[38;5;124;43m'\u001b[39;49m\u001b[43m)\u001b[49m \u001b[38;5;28;01mas\u001b[39;00m f:\n\u001b[0;32m      5\u001b[0m         lines \u001b[38;5;241m=\u001b[39m f\u001b[38;5;241m.\u001b[39mreadlines()\n",
      "File \u001b[1;32m~\\AppData\\Roaming\\Python\\Python311\\site-packages\\IPython\\core\\interactiveshell.py:310\u001b[0m, in \u001b[0;36m_modified_open\u001b[1;34m(file, *args, **kwargs)\u001b[0m\n\u001b[0;32m    303\u001b[0m \u001b[38;5;28;01mif\u001b[39;00m file \u001b[38;5;129;01min\u001b[39;00m {\u001b[38;5;241m0\u001b[39m, \u001b[38;5;241m1\u001b[39m, \u001b[38;5;241m2\u001b[39m}:\n\u001b[0;32m    304\u001b[0m     \u001b[38;5;28;01mraise\u001b[39;00m \u001b[38;5;167;01mValueError\u001b[39;00m(\n\u001b[0;32m    305\u001b[0m         \u001b[38;5;124mf\u001b[39m\u001b[38;5;124m\"\u001b[39m\u001b[38;5;124mIPython won\u001b[39m\u001b[38;5;124m'\u001b[39m\u001b[38;5;124mt let you open fd=\u001b[39m\u001b[38;5;132;01m{\u001b[39;00mfile\u001b[38;5;132;01m}\u001b[39;00m\u001b[38;5;124m by default \u001b[39m\u001b[38;5;124m\"\u001b[39m\n\u001b[0;32m    306\u001b[0m         \u001b[38;5;124m\"\u001b[39m\u001b[38;5;124mas it is likely to crash IPython. If you know what you are doing, \u001b[39m\u001b[38;5;124m\"\u001b[39m\n\u001b[0;32m    307\u001b[0m         \u001b[38;5;124m\"\u001b[39m\u001b[38;5;124myou can use builtins\u001b[39m\u001b[38;5;124m'\u001b[39m\u001b[38;5;124m open.\u001b[39m\u001b[38;5;124m\"\u001b[39m\n\u001b[0;32m    308\u001b[0m     )\n\u001b[1;32m--> 310\u001b[0m \u001b[38;5;28;01mreturn\u001b[39;00m \u001b[43mio_open\u001b[49m\u001b[43m(\u001b[49m\u001b[43mfile\u001b[49m\u001b[43m,\u001b[49m\u001b[43m \u001b[49m\u001b[38;5;241;43m*\u001b[39;49m\u001b[43margs\u001b[49m\u001b[43m,\u001b[49m\u001b[43m \u001b[49m\u001b[38;5;241;43m*\u001b[39;49m\u001b[38;5;241;43m*\u001b[39;49m\u001b[43mkwargs\u001b[49m\u001b[43m)\u001b[49m\n",
      "\u001b[1;31mTypeError\u001b[0m: expected str, bytes or os.PathLike object, not tuple"
     ]
    }
   ],
   "source": [
    "class Simple:\n",
    "    def __init__(self, *books):\n",
    "\n",
    "        with open(books, 'r', encoding='utf-8') as f:\n",
    "            lines = f.readlines()\n",
    "\n",
    "s = Simple(\"alice.txt\")\n",
    "\n",
    "s = Simple(\"hi\", \"there\", 40)"
   ]
  },
  {
   "cell_type": "code",
   "execution_count": 75,
   "id": "426f4bae-029e-4ba4-a8ac-35c7dafe1cea",
   "metadata": {},
   "outputs": [
    {
     "name": "stdout",
     "output_type": "stream",
     "text": [
      "42 114300 28450 18875\n"
     ]
    }
   ],
   "source": [
    "import re\n",
    "import random\n",
    "\n",
    "class BookReader:\n",
    "\n",
    "    def __init__(self, *books):\n",
    "        chunk_size = 25\n",
    "        lines = []\n",
    "        for book in books:\n",
    "            with open(book, 'r', encoding='utf-8') as f:\n",
    "                lines += f.readlines()\n",
    "\n",
    "        self.all_lines = []\n",
    "        self.train = []\n",
    "        self.dev   = []\n",
    "        self.test  = []\n",
    "\n",
    "        self.chunk = []\n",
    "        has_newline = False\n",
    "        for line in lines:\n",
    "            if line == '\\n' and has_newline:\n",
    "                has_newline = False\n",
    "                continue\n",
    "            else:\n",
    "                has_newline = True\n",
    "            line = re.sub(r'(\\n)+', '\\n', line)\n",
    "            self.all_lines += line\n",
    "            self.chunk += line\n",
    "\n",
    "            if len(self.chunk) % chunk_size == 0:\n",
    "                match random.randint(0, 10):\n",
    "                    case 0:\n",
    "                        self.test += self.chunk\n",
    "                    case 1:\n",
    "                        self.dev += self.chunk\n",
    "                    case _:\n",
    "                        self.train += self.chunk\n",
    "\n",
    "                self.chunk = []\n",
    "            \n",
    "        self.pattern = r'[^\\d+a-zA-Z \\n(1)?!]'\n",
    "        \n",
    "        self.text = re.sub(self.pattern, ' ', \"\".join(self.all_lines)).lower()\n",
    "        self.train = re.sub(self.pattern, ' ', \"\".join(self.train)).lower()\n",
    "        self.dev = re.sub(self.pattern, ' ', \"\".join(self.dev)).lower()\n",
    "        self.test = re.sub(self.pattern, ' ', \"\".join(self.test)).lower()\n",
    "\n",
    "        # here are all the unique characters that occur in this text\n",
    "        self.chars = sorted(list(set(self.text)))\n",
    "        \n",
    "        self.vocab_size = len(self.chars)\n",
    "        # create a mapping from characters to integers\n",
    "        self.stoi = { ch:i for i,ch in enumerate(self.chars) }\n",
    "        self.itos = { i:ch for i,ch in enumerate(self.chars) }\n",
    "        self.encode = lambda s: [self.stoi[c] for c in s] # encoder: take a string, output a list of integers\n",
    "        self.decode = lambda l: ''.join([self.itos[i] for i in l]) # decoder: take a list of integers, output a string\n",
    "\n",
    "        self.data = [self.encode(self.train), self.encode(self.dev), self.encode(self.test)]\n",
    "        \n",
    "alice = BookReader(\"alice.txt\")\n",
    "\n",
    "print(alice.vocab_size, len(alice.data[0]), len(alice.data[1]), len(alice.data[2]))"
   ]
  },
  {
   "cell_type": "code",
   "execution_count": 43,
   "id": "6078c9c4-fb70-447b-818e-50bef3211374",
   "metadata": {},
   "outputs": [
    {
     "data": {
      "text/plain": [
       "'rremove\\n'"
      ]
     },
     "execution_count": 43,
     "metadata": {},
     "output_type": "execute_result"
    }
   ],
   "source": [
    "remove = \"1 remove\\n\\n\\n\"\n",
    "re.sub(r'(\\n)+', '\\n', remove).lower()"
   ]
  },
  {
   "cell_type": "code",
   "execution_count": 11,
   "id": "f031d358-dac4-46b1-9866-863a692c518a",
   "metadata": {},
   "outputs": [],
   "source": [
    "import torch"
   ]
  },
  {
   "cell_type": "code",
   "execution_count": 54,
   "id": "dbe1a899-f86f-425d-823e-c038b7502a32",
   "metadata": {},
   "outputs": [
    {
     "name": "stdout",
     "output_type": "stream",
     "text": [
      "tensor([ 1, 18, 23,  ..., 20,  1, 16])\n"
     ]
    },
    {
     "data": {
      "text/plain": [
       "' chapter i \\ndown the rabbit hole\\n\\n\\nalice was beginning to get very tired of sitting by her sister on the\\nbank  and of having nothing to do  once or twice she had peeped into\\nthe book her sister was reading  but it had no pictures or\\nconversations in it   and what is the use of a book   thought alice\\n without pictures or conversations? \\n\\nso she was considering in her own mind (as well as she could  for the\\nhot day made her feel very sleepy and stupid)  whether the pleasure of\\nmaking a daisy chain would be worth the trouble of getting up and\\npicking the daisies  when suddenly a white rabbit with pink eyes ran\\nclose by her \\n\\nthere was nothing so  very  remarkable in that  nor did alice think it\\nso  very  much out of the way to hear the rabbit say to itself   oh\\ndear! oh dear! i shall be late!  (when she thought it over afterwards \\nit occurred to her that she ought to have wondered at this  but at the\\ntime it all seemed quite natural)  but when the rabbit actually  took a\\nwatch out of its waistcoat pocket   and looked at it  and then hurried\\non  alice started to her feet  for it flashed across her mind that she\\nthough this was not a  very  good opportunity for showing off her\\nknowledge  as there was no one to listen to her  still it was good\\npractice to say it over)   yes  that s about the right distance but\\nthen i wonder what latitude or longitude i ve got to?  (alice had no\\nidea what latitude was  or longitude either  but thought they were nice\\ngrand words to say )\\n\\npresently she began again   i wonder if i shall fall right  through \\nthe earth! how funny it ll seem to come out among the people that walk\\nwith their heads downward! the antipathies  i think   (she was rather\\nglad there  was  no one listening  this time  as it didn t sound at all\\nthe right word)   but i shall have to ask them what the name of the\\ncountry is  you know  please  ma am  is this new zealand or australia? \\n(and she tried to curtsey as she spoke fancy  curtseying  as you re\\nfalling through the a'"
      ]
     },
     "execution_count": 54,
     "metadata": {},
     "output_type": "execute_result"
    }
   ],
   "source": [
    "train_data = torch.tensor(alice.data[0][:2000])\n",
    "print(train_data)\n",
    "alice.decode(train_data.tolist())"
   ]
  },
  {
   "cell_type": "code",
   "execution_count": 15,
   "id": "461e01f0-95f3-4666-be8c-d2f3f011572e",
   "metadata": {},
   "outputs": [
    {
     "data": {
      "text/plain": [
       "tensor([[25,  1, 32, 18, 18],\n",
       "        [18, 17,  1, 33, 28],\n",
       "        [ 1, 21, 18, 31,  1],\n",
       "        [27,  0,  0, 17, 22],\n",
       "        [18, 31,  1, 19, 18]])"
      ]
     },
     "execution_count": 15,
     "metadata": {},
     "output_type": "execute_result"
    }
   ],
   "source": [
    "# data loading\n",
    "def get_batch(data, sequence_length=4, batch_size=5):\n",
    "    # generate a small batch of data of inputs x and targets y\n",
    "    ix = torch.randint(len(data) - sequence_length, (batch_size,))\n",
    "    b = torch.stack([data[i:i+sequence_length+1] for i in ix])\n",
    "    return b\n",
    "\n",
    "get_batch(train_data)"
   ]
  }
 ],
 "metadata": {
  "kernelspec": {
   "display_name": "Python 3 (ipykernel)",
   "language": "python",
   "name": "python3"
  },
  "language_info": {
   "codemirror_mode": {
    "name": "ipython",
    "version": 3
   },
   "file_extension": ".py",
   "mimetype": "text/x-python",
   "name": "python",
   "nbconvert_exporter": "python",
   "pygments_lexer": "ipython3",
   "version": "3.11.7"
  }
 },
 "nbformat": 4,
 "nbformat_minor": 5
}
