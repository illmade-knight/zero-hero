{
 "cells": [
  {
   "cell_type": "markdown",
   "id": "623a40b8-15f3-474b-b2d8-a2e8a4559672",
   "metadata": {},
   "source": [
    "### add more dimensions\n",
    "\n",
    "in the simple bigram model our letters just had an integer index\n",
    "\n",
    "this time lets say they inhabit a 2 dimensional space, and we can move them around in that space as we train"
   ]
  },
  {
   "cell_type": "code",
   "execution_count": 1,
   "id": "1998a4ba-4781-49c6-93e0-cde038779ab7",
   "metadata": {},
   "outputs": [],
   "source": [
    "import torch\n",
    "import torch.nn.functional as F\n",
    "import torch.nn as nn"
   ]
  },
  {
   "cell_type": "code",
   "execution_count": 2,
   "id": "10e407ab-2f2f-4cfe-908f-8a49d0a50786",
   "metadata": {},
   "outputs": [],
   "source": [
    "vocab_size = 27\n",
    "embedding_size = 2\n",
    "# our embedding space\n",
    "es = torch.randn((vocab_size, embedding_size))"
   ]
  },
  {
   "cell_type": "code",
   "execution_count": 3,
   "id": "334f6638-8720-4bbb-ae02-fe9306bc7f9e",
   "metadata": {},
   "outputs": [
    {
     "data": {
      "text/plain": [
       "(tensor([[ 4.3062e-01,  5.4110e-01, -1.6214e-03, -4.4682e-01, -1.1512e-03,\n",
       "          -2.9799e-01,  4.0123e-01,  1.2259e+00, -1.9038e+00,  1.4593e+00,\n",
       "          -4.5409e-01,  1.2814e+00,  1.1369e+00, -7.5805e-03,  1.1151e+00,\n",
       "           6.6272e-01,  1.5688e+00, -5.7599e-01, -9.1451e-01, -2.7337e-01,\n",
       "           9.4394e-01,  7.6154e-01, -1.0951e+00,  3.3686e-01,  5.8808e-01,\n",
       "           1.0283e+00, -2.3396e-01],\n",
       "         [ 8.2388e-01,  2.0297e+00,  4.3256e-01,  1.8258e+00, -1.7869e+00,\n",
       "           3.2054e-01, -8.5015e-01, -4.1018e-01, -5.2823e-01, -5.4173e-01,\n",
       "          -1.9819e+00,  1.2371e+00,  2.1639e-01, -1.7835e+00,  5.1852e-01,\n",
       "           5.7749e-01,  1.9405e-01,  1.3953e+00,  1.7460e-01, -3.0110e-01,\n",
       "          -1.3262e+00,  9.2883e-01, -1.1268e+00,  1.3561e+00, -3.9672e-01,\n",
       "          -2.9362e+00, -3.1789e-01]]),\n",
       " tensor([0.5411, 2.0297]))"
      ]
     },
     "execution_count": 3,
     "metadata": {},
     "output_type": "execute_result"
    }
   ],
   "source": [
    "# show the embedding space an the 'a' co-ordinates (Transpose es just to save display space)\n",
    "es.T, es[1]"
   ]
  },
  {
   "cell_type": "code",
   "execution_count": 4,
   "id": "b7fc91cd-bb75-48cc-8dd5-715021c931a4",
   "metadata": {},
   "outputs": [
    {
     "data": {
      "text/plain": [
       "tensor([-0.2980,  0.3205])"
      ]
     },
     "execution_count": 4,
     "metadata": {},
     "output_type": "execute_result"
    }
   ],
   "source": [
    "x = torch.tensor(5)\n",
    "rep = F.one_hot(x, num_classes=vocab_size).float()\n",
    "rep @ es"
   ]
  },
  {
   "cell_type": "code",
   "execution_count": 5,
   "id": "21bc0bff-e304-42ec-b410-a925d051a7fc",
   "metadata": {},
   "outputs": [],
   "source": [
    "with open(\"names.txt\", \"r\") as r:\n",
    "    names = [\".\" + f + \".\" for f in r.read().split()]\n",
    "\n",
    "import string\n",
    "letters = [l for l in string.ascii_lowercase]\n",
    "\n",
    "itos = {0: \".\"}\n",
    "stoi = {\".\": 0}\n",
    "\n",
    "for i, l in enumerate(letters):\n",
    "    offset = i+1\n",
    "    stoi[l] = offset\n",
    "    itos[offset] = l\n"
   ]
  },
  {
   "cell_type": "code",
   "execution_count": 6,
   "id": "cbbff759-28b1-4bd0-8b1e-4917c8d06ac3",
   "metadata": {},
   "outputs": [
    {
     "data": {
      "text/plain": [
       "(1, 32033)"
      ]
     },
     "execution_count": 6,
     "metadata": {},
     "output_type": "execute_result"
    }
   ],
   "source": [
    "stoi['a'], len(names)"
   ]
  },
  {
   "cell_type": "code",
   "execution_count": 7,
   "id": "c4c40a23-9089-409a-9d52-5b5fde7b2f5a",
   "metadata": {},
   "outputs": [
    {
     "data": {
      "text/plain": [
       "['.lenzie.', '.ellarose.']"
      ]
     },
     "execution_count": 7,
     "metadata": {},
     "output_type": "execute_result"
    }
   ],
   "source": [
    "from random import randrange\n",
    "\n",
    "names_length = len(names)\n",
    "\n",
    "def sample_names(size=5):\n",
    "    batch_names = []\n",
    "    for i in range(size):\n",
    "        ni = randrange(names_length-1)\n",
    "        name = names[ni]\n",
    "        batch_names.append(name)\n",
    "    return batch_names\n",
    "\n",
    "sample_names(2)"
   ]
  },
  {
   "cell_type": "code",
   "execution_count": 8,
   "id": "81c38c1d-0dba-4cdf-b5f0-08ea67a88487",
   "metadata": {},
   "outputs": [],
   "source": [
    "def get_xys(samples):\n",
    "    xs, ys = [], []\n",
    "    for s in samples:\n",
    "        em = [stoi[c] for c in s] \n",
    "        for x, y in zip(em, em[1:]):\n",
    "            xs.append(x)\n",
    "            ys.append(y)\n",
    "\n",
    "    return xs, ys"
   ]
  },
  {
   "cell_type": "code",
   "execution_count": 9,
   "id": "d79e625d-4b90-47a7-b2d8-35daf2a6f89d",
   "metadata": {},
   "outputs": [
    {
     "data": {
      "text/plain": [
       "([0, 11, 25, 1, 8, 0, 13, 9, 11, 5, 12, 12, 5],\n",
       " [11, 25, 1, 8, 0, 13, 9, 11, 5, 12, 12, 5, 0])"
      ]
     },
     "execution_count": 9,
     "metadata": {},
     "output_type": "execute_result"
    }
   ],
   "source": [
    "x, y = get_xys(sample_names(2))\n",
    "x, y"
   ]
  },
  {
   "cell_type": "code",
   "execution_count": 10,
   "id": "87d81ae9-3fae-45cf-a409-980628968ab8",
   "metadata": {},
   "outputs": [
    {
     "data": {
      "text/plain": [
       "(tensor([[-1.1133,  0.4170],\n",
       "         [-0.3114,  0.3001],\n",
       "         [-0.4415, -1.3682],\n",
       "         [ 0.3683,  0.4668],\n",
       "         [-2.3022, -0.4260],\n",
       "         [ 0.3859, -0.1330],\n",
       "         [ 0.3683,  0.4668],\n",
       "         [-1.1133,  0.4170],\n",
       "         [ 0.9573, -2.1338],\n",
       "         [ 0.3859, -0.1330],\n",
       "         [-0.9595,  1.0326],\n",
       "         [-2.3022, -0.4260],\n",
       "         [-0.4415, -1.3682],\n",
       "         [ 0.3683,  0.4668]]),\n",
       " tensor([-0.5353,  1.8641]))"
      ]
     },
     "execution_count": 10,
     "metadata": {},
     "output_type": "execute_result"
    }
   ],
   "source": [
    "es[x], es[10]"
   ]
  },
  {
   "cell_type": "code",
   "execution_count": 11,
   "id": "f0406271-4d7b-4564-a751-36da66791038",
   "metadata": {},
   "outputs": [
    {
     "data": {
      "text/plain": [
       "torch.Size([14, 2])"
      ]
     },
     "execution_count": 11,
     "metadata": {},
     "output_type": "execute_result"
    }
   ],
   "source": [
    "train = es[x]\n",
    "train.shape"
   ]
  },
  {
   "cell_type": "code",
   "execution_count": 12,
   "id": "93823ff9-39e1-41fa-b772-050bd2ff515c",
   "metadata": {},
   "outputs": [],
   "source": [
    "W = torch.randn(2, 100)\n",
    "b = torch.randn(100)"
   ]
  },
  {
   "cell_type": "code",
   "execution_count": 13,
   "id": "13ad659f-65cf-45df-9596-cc45fcd59c92",
   "metadata": {},
   "outputs": [
    {
     "data": {
      "text/plain": [
       "torch.Size([14, 100])"
      ]
     },
     "execution_count": 13,
     "metadata": {},
     "output_type": "execute_result"
    }
   ],
   "source": [
    "outputL1 = torch.tanh(train @ W + b)\n",
    "outputL1.shape"
   ]
  },
  {
   "cell_type": "code",
   "execution_count": 14,
   "id": "94c22ceb-5c9e-48d3-a587-bcf47a72c146",
   "metadata": {},
   "outputs": [],
   "source": [
    "W2 = torch.randn(100, 27)\n",
    "b2 = torch.randn(27)"
   ]
  },
  {
   "cell_type": "code",
   "execution_count": 15,
   "id": "e2db7c3a-d9e2-4e02-8cf8-33e7ce74f4d0",
   "metadata": {},
   "outputs": [
    {
     "data": {
      "text/plain": [
       "torch.Size([14, 27])"
      ]
     },
     "execution_count": 15,
     "metadata": {},
     "output_type": "execute_result"
    }
   ],
   "source": [
    "logits = outputL1 @ W2 + b2\n",
    "logits.shape"
   ]
  },
  {
   "cell_type": "code",
   "execution_count": 102,
   "id": "b2674978-7956-413c-be94-714636daa60b",
   "metadata": {},
   "outputs": [],
   "source": [
    "probs = logits.exp()\n",
    "probs.shape, labels.shape, probs, labels\n",
    "# loss = -probs[y].sum(1).log().mean()\n",
    "loss = - probs.T[y].log().mean()"
   ]
  },
  {
   "cell_type": "markdown",
   "id": "79fa1191-27b6-4f65-b48a-114d1b1ce261",
   "metadata": {},
   "source": [
    "## OK lets run this and see what happens..."
   ]
  },
  {
   "cell_type": "code",
   "execution_count": 217,
   "id": "7cd98882-38fe-49bb-a461-033d0c4256ca",
   "metadata": {},
   "outputs": [],
   "source": [
    "es = torch.randn((27, 2), requires_grad=True)\n",
    "W = torch.randn((2, 100), requires_grad=True)\n",
    "b = torch.randn(100, requires_grad=True)\n",
    "W2 = torch.randn((100, 27), requires_grad=True)\n",
    "b2 = torch.randn(27, requires_grad=True)\n",
    "\n",
    "parameters = [es, W, b, W2, b2]"
   ]
  },
  {
   "cell_type": "code",
   "execution_count": 216,
   "id": "88c86409-6c7a-43b1-ab79-f74c43964fe6",
   "metadata": {},
   "outputs": [],
   "source": [
    "names_length = len(names)\n",
    "epochs = 70\n",
    "batch_size = 200\n",
    "learning_rate = 2\n",
    "samples = 400 #in future we want our epoch to roughly sample everything - names_length / batch_size"
   ]
  },
  {
   "cell_type": "code",
   "execution_count": 218,
   "id": "9035d60c-d95d-4871-88b8-3ffdcfa061c3",
   "metadata": {},
   "outputs": [
    {
     "name": "stdout",
     "output_type": "stream",
     "text": [
      "tensor(17.1653, grad_fn=<DivBackward0>)\n",
      "0 1.9\n",
      "tensor(10.3963, grad_fn=<DivBackward0>)\n",
      "1 1.805\n",
      "tensor(8.4369, grad_fn=<DivBackward0>)\n",
      "2 1.7147499999999998\n",
      "tensor(6.6895, grad_fn=<DivBackward0>)\n",
      "3 1.6290124999999998\n",
      "tensor(5.8348, grad_fn=<DivBackward0>)\n",
      "4 1.5475618749999998\n",
      "tensor(5.0832, grad_fn=<DivBackward0>)\n",
      "5 1.4701837812499996\n",
      "tensor(4.3988, grad_fn=<DivBackward0>)\n",
      "6 1.3966745921874995\n",
      "tensor(3.7966, grad_fn=<DivBackward0>)\n",
      "7 1.3268408625781245\n",
      "tensor(3.3958, grad_fn=<DivBackward0>)\n",
      "8 1.2604988194492182\n",
      "tensor(3.1424, grad_fn=<DivBackward0>)\n",
      "9 1.1974738784767571\n",
      "tensor(2.9672, grad_fn=<DivBackward0>)\n",
      "10 1.1376001845529191\n",
      "tensor(2.8372, grad_fn=<DivBackward0>)\n",
      "11 1.080720175325273\n",
      "tensor(2.7635, grad_fn=<DivBackward0>)\n",
      "12 1.0266841665590094\n",
      "tensor(2.6985, grad_fn=<DivBackward0>)\n",
      "13 0.9753499582310589\n",
      "tensor(2.6609, grad_fn=<DivBackward0>)\n",
      "14 0.9265824603195059\n",
      "tensor(2.6173, grad_fn=<DivBackward0>)\n",
      "15 0.8802533373035305\n",
      "tensor(2.5961, grad_fn=<DivBackward0>)\n",
      "16 0.8362406704383539\n",
      "tensor(2.5625, grad_fn=<DivBackward0>)\n",
      "17 0.7944286369164362\n",
      "tensor(2.5401, grad_fn=<DivBackward0>)\n",
      "18 0.7547072050706143\n",
      "tensor(2.5293, grad_fn=<DivBackward0>)\n",
      "19 0.7169718448170835\n",
      "tensor(2.5085, grad_fn=<DivBackward0>)\n",
      "20 0.6811232525762293\n",
      "tensor(2.4960, grad_fn=<DivBackward0>)\n",
      "21 0.6470670899474178\n",
      "tensor(2.4878, grad_fn=<DivBackward0>)\n",
      "22 0.6147137354500469\n",
      "tensor(2.4863, grad_fn=<DivBackward0>)\n",
      "23 0.5839780486775445\n",
      "tensor(2.4824, grad_fn=<DivBackward0>)\n",
      "24 0.5547791462436673\n",
      "tensor(2.4807, grad_fn=<DivBackward0>)\n",
      "25 0.527040188931484\n",
      "tensor(2.4764, grad_fn=<DivBackward0>)\n",
      "26 0.5006881794849097\n",
      "tensor(2.4766, grad_fn=<DivBackward0>)\n",
      "27 0.4756537705106642\n",
      "tensor(2.4746, grad_fn=<DivBackward0>)\n",
      "28 0.451871081985131\n",
      "tensor(2.4791, grad_fn=<DivBackward0>)\n",
      "29 0.4292775278858744\n",
      "tensor(2.4741, grad_fn=<DivBackward0>)\n",
      "30 0.40781365149158066\n",
      "tensor(2.4733, grad_fn=<DivBackward0>)\n",
      "31 0.3874229689170016\n",
      "tensor(2.4742, grad_fn=<DivBackward0>)\n",
      "32 0.36805182047115154\n",
      "tensor(2.4726, grad_fn=<DivBackward0>)\n",
      "33 0.34964922944759397\n",
      "tensor(2.4721, grad_fn=<DivBackward0>)\n",
      "34 0.33216676797521427\n",
      "tensor(2.4719, grad_fn=<DivBackward0>)\n",
      "35 0.3155584295764535\n",
      "tensor(2.4715, grad_fn=<DivBackward0>)\n",
      "36 0.29978050809763085\n",
      "tensor(2.4715, grad_fn=<DivBackward0>)\n",
      "37 0.2847914826927493\n",
      "tensor(2.4709, grad_fn=<DivBackward0>)\n",
      "38 0.2705519085581118\n",
      "tensor(2.4739, grad_fn=<DivBackward0>)\n",
      "39 0.2570243131302062\n",
      "tensor(2.4693, grad_fn=<DivBackward0>)\n",
      "40 0.24417309747369587\n",
      "tensor(2.4686, grad_fn=<DivBackward0>)\n",
      "41 0.23196444260001106\n",
      "tensor(2.4708, grad_fn=<DivBackward0>)\n",
      "42 0.2203662204700105\n",
      "tensor(2.4745, grad_fn=<DivBackward0>)\n",
      "43 0.20934790944650997\n",
      "tensor(2.4704, grad_fn=<DivBackward0>)\n",
      "44 0.19888051397418446\n",
      "tensor(2.4712, grad_fn=<DivBackward0>)\n",
      "45 0.18893648827547524\n",
      "tensor(2.4693, grad_fn=<DivBackward0>)\n",
      "46 0.17948966386170148\n",
      "tensor(2.4709, grad_fn=<DivBackward0>)\n",
      "47 0.1705151806686164\n",
      "tensor(2.4684, grad_fn=<DivBackward0>)\n",
      "48 0.16198942163518557\n",
      "tensor(2.4690, grad_fn=<DivBackward0>)\n",
      "49 0.15388995055342627\n",
      "tensor(2.4678, grad_fn=<DivBackward0>)\n",
      "50 0.14619545302575496\n",
      "tensor(2.4710, grad_fn=<DivBackward0>)\n",
      "51 0.1388856803744672\n",
      "tensor(2.4684, grad_fn=<DivBackward0>)\n",
      "52 0.1319413963557438\n",
      "tensor(2.4681, grad_fn=<DivBackward0>)\n",
      "53 0.1253443265379566\n",
      "tensor(2.4675, grad_fn=<DivBackward0>)\n",
      "54 0.11907711021105877\n",
      "tensor(2.4693, grad_fn=<DivBackward0>)\n",
      "55 0.11312325470050583\n",
      "tensor(2.4694, grad_fn=<DivBackward0>)\n",
      "56 0.10746709196548053\n",
      "tensor(2.4695, grad_fn=<DivBackward0>)\n",
      "57 0.1020937373672065\n",
      "tensor(2.4705, grad_fn=<DivBackward0>)\n",
      "58 0.09698905049884618\n",
      "tensor(2.4718, grad_fn=<DivBackward0>)\n",
      "59 0.09213959797390386\n",
      "tensor(2.4687, grad_fn=<DivBackward0>)\n",
      "60 0.08753261807520867\n",
      "tensor(2.4661, grad_fn=<DivBackward0>)\n",
      "61 0.08315598717144823\n",
      "tensor(2.4693, grad_fn=<DivBackward0>)\n",
      "62 0.07899818781287582\n",
      "tensor(2.4724, grad_fn=<DivBackward0>)\n",
      "63 0.07504827842223202\n",
      "tensor(2.4718, grad_fn=<DivBackward0>)\n",
      "64 0.07129586450112042\n",
      "tensor(2.4698, grad_fn=<DivBackward0>)\n",
      "65 0.0677310712760644\n",
      "tensor(2.4687, grad_fn=<DivBackward0>)\n",
      "66 0.06434451771226117\n",
      "tensor(2.4690, grad_fn=<DivBackward0>)\n",
      "67 0.06112729182664811\n",
      "tensor(2.4709, grad_fn=<DivBackward0>)\n",
      "68 0.058070927235315706\n",
      "tensor(2.4681, grad_fn=<DivBackward0>)\n",
      "69 0.055167380873549915\n"
     ]
    }
   ],
   "source": [
    "for ep in range(epochs):\n",
    "    epoch_loss = 0\n",
    "    for s in range(samples):\n",
    "        x, y = get_xys(sample_names(batch_size))\n",
    "        Y = torch.tensor(y)\n",
    "        train = es[x]\n",
    "        outputL1 = torch.tanh(train @ W + b)\n",
    "        logits = outputL1 @ W2 + b2\n",
    "\n",
    "        loss = F.cross_entropy(logits, Y)\n",
    "\n",
    "        epoch_loss += loss\n",
    "\n",
    "        es.grad = None\n",
    "        W.grad = None\n",
    "        b.grad = None\n",
    "        W2.grad = None\n",
    "        b2.grad = None\n",
    "        \n",
    "        loss.backward()\n",
    "        es.data -=learning_rate * es.grad\n",
    "        W.data -= learning_rate * W.grad\n",
    "        b.data -= learning_rate * b.grad\n",
    "        W2.data -= learning_rate * W2.grad\n",
    "        b2.data -= learning_rate * b2.grad\n",
    "    print(epoch_loss/samples)\n",
    "    learning_rate *= .95\n",
    "    print(ep, learning_rate)"
   ]
  },
  {
   "cell_type": "code",
   "execution_count": 143,
   "id": "6466eaa0-86ee-48fa-b805-9a3bb3fa545d",
   "metadata": {},
   "outputs": [],
   "source": [
    "def generate_names(num_names):\n",
    "    for i in range(num_names):\n",
    "        out = []\n",
    "        ix = 0\n",
    "        for nl in range(20):\n",
    "            xenc = es[ix]\n",
    "            \n",
    "            outputL1 = torch.tanh(xenc @ W + b)\n",
    "            logits = outputL1 @ W2 + b2\n",
    "            \n",
    "            counts = logits.exp()\n",
    "            \n",
    "            p = counts / counts.sum(0, keepdim=True)\n",
    "    \n",
    "            ## torch.multinomial pulls out an index in p (num_samples=1) by sampling from the elements in p according to their probabilities \n",
    "            ## (p is normalized in the softmax above)\n",
    "            ix = torch.multinomial(p, num_samples=1).item()\n",
    "    \n",
    "            if ix == 0:\n",
    "                break\n",
    "            out.append(itos[ix])\n",
    "            \n",
    "        print(\"\".join(out))"
   ]
  },
  {
   "cell_type": "code",
   "execution_count": 178,
   "id": "964cdce5-effd-45a8-be31-2a37ad9ac7c7",
   "metadata": {},
   "outputs": [
    {
     "name": "stdout",
     "output_type": "stream",
     "text": [
      "jaiesaeriin\n",
      "ja\n",
      "j\n",
      "karya\n",
      "jazya\n",
      "dellheli\n",
      "heeinlien\n",
      "s\n",
      "lsharo\n",
      "ma\n"
     ]
    }
   ],
   "source": [
    "generate_names(10)"
   ]
  },
  {
   "cell_type": "code",
   "execution_count": 46,
   "id": "53d9d7a8-9d72-4161-a2c0-f96025b1f11a",
   "metadata": {},
   "outputs": [],
   "source": [
    "import matplotlib.pyplot as plt"
   ]
  },
  {
   "cell_type": "code",
   "execution_count": 219,
   "id": "c9ee12d6-6c1b-4ac3-a2b8-83ffa27607d4",
   "metadata": {},
   "outputs": [
    {
     "data": {
      "image/png": "[encoded data removed]",
      "text/plain": [
       "<Figure size 640x480 with 1 Axes>"
      ]
     },
     "metadata": {},
     "output_type": "display_data"
    }
   ],
   "source": [
    "x = es.T[0].tolist()\n",
    "y = es.T[1].tolist()\n",
    "n = ['.'] + letters\n",
    "\n",
    "fig, ax = plt.subplots()\n",
    "ax.scatter(x, y)\n",
    "\n",
    "for i, txt in enumerate(n):\n",
    "    ax.annotate(txt, (x[i], y[i]))"
   ]
  },
  {
   "cell_type": "code",
   "execution_count": 215,
   "id": "69ab26ac-8251-475e-902e-06d30785cda0",
   "metadata": {},
   "outputs": [
    {
     "data": {
      "image/png": "[encoded data removed]",
      "text/plain": [
       "<Figure size 640x480 with 1 Axes>"
      ]
     },
     "metadata": {},
     "output_type": "display_data"
    }
   ],
   "source": [
    "x = es.T[0].tolist()\n",
    "y = es.T[1].tolist()\n",
    "n = ['.'] + letters\n",
    "\n",
    "fig, ax = plt.subplots()\n",
    "ax.scatter(x, y)\n",
    "\n",
    "for i, txt in enumerate(n):\n",
    "    ax.annotate(txt, (x[i], y[i]))"
   ]
  },
  {
   "cell_type": "code",
   "execution_count": 208,
   "id": "d292953b-4faa-4700-a1fa-54d6e6c07784",
   "metadata": {},
   "outputs": [
    {
     "data": {
      "image/png": "[encoded data removed]",
      "text/plain": [
       "<Figure size 640x480 with 1 Axes>"
      ]
     },
     "metadata": {},
     "output_type": "display_data"
    }
   ],
   "source": [
    "x = es.T[0].tolist()\n",
    "y = es.T[1].tolist()\n",
    "n = ['.'] + letters\n",
    "\n",
    "fig, ax = plt.subplots()\n",
    "ax.scatter(x, y)\n",
    "\n",
    "for i, txt in enumerate(n):\n",
    "    ax.annotate(txt, (x[i], y[i]))"
   ]
  },
  {
   "cell_type": "code",
   "execution_count": 220,
   "id": "13c74b8f-2df6-486b-b5a6-9c4b8ee4ce73",
   "metadata": {},
   "outputs": [],
   "source": [
    "import numpy as np"
   ]
  },
  {
   "cell_type": "code",
   "execution_count": 236,
   "id": "9e649d6d-dbe1-4c4b-a926-84502d04c06d",
   "metadata": {},
   "outputs": [],
   "source": [
    "r = np.arange(.001, 1, .01)"
   ]
  },
  {
   "cell_type": "code",
   "execution_count": 224,
   "id": "6df2ae2a-8c3f-4a58-a6a5-4a646cafb274",
   "metadata": {},
   "outputs": [],
   "source": [
    "import math"
   ]
  },
  {
   "cell_type": "code",
   "execution_count": 237,
   "id": "7c45d108-cab2-497b-94bf-d81aea604ee6",
   "metadata": {},
   "outputs": [],
   "source": [
    "re = [math.log(e) for e in r]"
   ]
  },
  {
   "cell_type": "code",
   "execution_count": 238,
   "id": "ead93279-4836-432c-a14c-68a591431b16",
   "metadata": {},
   "outputs": [
    {
     "data": {
      "text/plain": [
       "[<matplotlib.lines.Line2D at 0x23e54ca2510>]"
      ]
     },
     "execution_count": 238,
     "metadata": {},
     "output_type": "execute_result"
    },
    {
     "data": {
      "image/png": "[encoded data removed]",
      "text/plain": [
       "<Figure size 640x480 with 1 Axes>"
      ]
     },
     "metadata": {},
     "output_type": "display_data"
    }
   ],
   "source": [
    "plt.plot(r, re)"
   ]
  },
  {
   "cell_type": "code",
   "execution_count": 246,
   "id": "979ef919-a73f-4a5d-ae1c-14ea249e2339",
   "metadata": {},
   "outputs": [],
   "source": [
    "e = np.arange(-7, 0, .01)"
   ]
  },
  {
   "cell_type": "code",
   "execution_count": 247,
   "id": "395765bd-daad-453e-81a0-e6a39e207d00",
   "metadata": {},
   "outputs": [],
   "source": [
    "y = [math.exp(x) for x in e]"
   ]
  },
  {
   "cell_type": "code",
   "execution_count": 248,
   "id": "8827cbfd-daa5-4dcb-a4e9-416cc2a777f0",
   "metadata": {},
   "outputs": [
    {
     "data": {
      "text/plain": [
       "[<matplotlib.lines.Line2D at 0x23e54b8bd90>]"
      ]
     },
     "execution_count": 248,
     "metadata": {},
     "output_type": "execute_result"
    },
    {
     "data": {
      "image/png": "[encoded data removed]",
      "text/plain": [
       "<Figure size 640x480 with 1 Axes>"
      ]
     },
     "metadata": {},
     "output_type": "display_data"
    }
   ],
   "source": [
    "plt.plot(e, y)"
   ]
  }
 ],
 "metadata": {
  "kernelspec": {
   "display_name": "Python 3 (ipykernel)",
   "language": "python",
   "name": "python3"
  },
  "language_info": {
   "codemirror_mode": {
    "name": "ipython",
    "version": 3
   },
   "file_extension": ".py",
   "mimetype": "text/x-python",
   "name": "python",
   "nbconvert_exporter": "python",
   "pygments_lexer": "ipython3",
   "version": "3.11.7"
  }
 },
 "nbformat": 4,
 "nbformat_minor": 5
}
