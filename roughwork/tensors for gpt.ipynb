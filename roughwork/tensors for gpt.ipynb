{
 "cells": [
  {
   "cell_type": "code",
   "execution_count": 2,
   "id": "93229e23-e812-402e-89e6-38685d57985f",
   "metadata": {},
   "outputs": [],
   "source": [
    "import torch"
   ]
  },
  {
   "cell_type": "markdown",
   "id": "58065b4c-c187-4022-8326-38f69fe82581",
   "metadata": {},
   "source": [
    "## Lets play with torch for a while to get used to it"
   ]
  },
  {
   "cell_type": "code",
   "execution_count": 5,
   "id": "7d10453c-7294-4449-9c32-4a0fffa08709",
   "metadata": {},
   "outputs": [
    {
     "name": "stdout",
     "output_type": "stream",
     "text": [
      "a tensor\n",
      "tensor([[-0.0766,  0.9547,  2.0264,  0.6129, -1.3611],\n",
      "        [ 1.0784,  1.6391, -1.6246,  1.0645, -0.9554],\n",
      "        [-1.0579, -0.5301, -0.1727,  0.2937, -0.5942],\n",
      "        [ 1.0057, -0.4868,  1.4184,  0.3482, -1.3749]])\n",
      "first row tensor([-0.0766,  0.9547,  2.0264,  0.6129, -1.3611])\n",
      "first column\n",
      "tensor([-0.0766,  1.0784, -1.0579,  1.0057])\n",
      "tensor after changing[0][0] tensor([[ 2.4000,  0.9547,  2.0264,  0.6129, -1.3611],\n",
      "        [ 1.0784,  1.6391, -1.6246,  1.0645, -0.9554],\n",
      "        [-1.0579, -0.5301, -0.1727,  0.2937, -0.5942],\n",
      "        [ 1.0057, -0.4868,  1.4184,  0.3482, -1.3749]])\n",
      "first column using slice\n",
      "tensor([ 2.4000,  1.0784, -1.0579,  1.0057])\n",
      "a left (lower) triangluar matric\n",
      "tensor([[1., 0., 0., 0.],\n",
      "        [1., 1., 0., 0.],\n",
      "        [1., 1., 1., 0.],\n",
      "        [1., 1., 1., 1.]])\n",
      "our original matric mutlipled by the left triangular matrix\n"
     ]
    },
    {
     "data": {
      "text/plain": [
       "tensor([[ 2.4000,  0.0000,  0.0000,  0.0000],\n",
       "        [ 1.0784,  1.6391, -0.0000,  0.0000],\n",
       "        [-1.0579, -0.5301, -0.1727,  0.0000],\n",
       "        [ 1.0057, -0.4868,  1.4184,  0.3482]])"
      ]
     },
     "execution_count": 5,
     "metadata": {},
     "output_type": "execute_result"
    }
   ],
   "source": [
    "four_by_five = torch.randn(4, 5)\n",
    "print(\"a tensor\")\n",
    "print(four_by_five)\n",
    "print(\"first row\", four_by_five[0])\n",
    "\n",
    "print(\"first column\")\n",
    "col1 = torch.select(four_by_five, 1, 0)\n",
    "print(col1)\n",
    "\n",
    "col1[0] = 2.4\n",
    "print(\"tensor after changing[0][0]\", four_by_five)\n",
    "print(\"first column using slice\")\n",
    "print(four_by_five[:,0])\n",
    "\n",
    "four_by_four = four_by_five[:,0:4]\n",
    "\n",
    "tril = torch.tril(torch.ones(4,4))\n",
    "print(\"a left (lower) triangluar matric\")\n",
    "print(tril)\n",
    "\n",
    "print(\"our original matric mutlipled by the left triangular matrix\") \n",
    "four_by_four * tril"
   ]
  },
  {
   "cell_type": "markdown",
   "id": "817c3d46-7fdd-4f1c-b605-d066cf964218",
   "metadata": {},
   "source": [
    "## B, T, C\n",
    "\n",
    "what's this B, T, C stuff?\n",
    "\n",
    "Lets use it to get used to some more stuff\n",
    "\n",
    "it's maybe not super clear\n",
    "* B - is the Batch Dimension\n",
    "\n",
    "so if we have 3 examples in a Batch and each example is 4 tokens long"
   ]
  },
  {
   "cell_type": "code",
   "execution_count": 6,
   "id": "5926a161-7953-4adb-8cb3-086699c53e9b",
   "metadata": {},
   "outputs": [
    {
     "data": {
      "text/plain": [
       "tensor([[-0.1170,  0.5368,  1.0373,  0.2529],\n",
       "        [ 0.4538, -1.0266,  0.8987, -0.3596],\n",
       "        [-0.2500, -0.2493, -0.3341, -1.0510]])"
      ]
     },
     "execution_count": 6,
     "metadata": {},
     "output_type": "execute_result"
    }
   ],
   "source": [
    "BT = torch.randn(3, 4)\n",
    "BT"
   ]
  },
  {
   "cell_type": "markdown",
   "id": "23de36cf-3f05-4b6c-a76d-910f709c4c6d",
   "metadata": {},
   "source": [
    "\n",
    "\n",
    "so the first example in the batch is BT[0], the second BT[1] etc...\n",
    "\n",
    "so the first index place is the B (batch) and the chosen index is the example\n",
    "\n",
    "* T is for time\n",
    "\n",
    "then within the example T is the Time dimension refering to it this way is confusing in our language model\n",
    "\n",
    "what's time got to do with it?\n",
    "\n",
    "it's from thinking of the example as a sequence, one element following another (Like as the waves make towards the pebbl'd shore)\n",
    "\n",
    "so if we have a 3x4 batch:\n",
    "\n",
    "[ \n",
    " [w, h, e, n],\n",
    " [b. o, t, h],\n",
    " [w, h, a, t],\n",
    "]\n",
    "\n",
    "here we can see the time dimension for the first example in the batch \n",
    "\n",
    "| B       | T        |          |\n",
    "| :-----: | :------: | :------: |\n",
    "| [0]     | [0]      | -> w     |\n",
    "| [0]     | [1]      | -> h     |\n",
    "| [0]     | [2]      | -> e     |\n",
    "| [0]     | [3]      | -> n     |\n",
    "\n",
    "\n"
   ]
  },
  {
   "cell_type": "markdown",
   "id": "6206fea2-40e9-43db-b82e-c43b566c29a4",
   "metadata": {},
   "source": [
    "## C is for Channel\n",
    "say we've embedded our letters in a two dimensional space, each dimension is a channel\n",
    "\n",
    "or in an image, a pixel could have 3 colour 'channels' RGB\n",
    "\n",
    "we'll start with 2 channels"
   ]
  },
  {
   "cell_type": "code",
   "execution_count": 8,
   "id": "1e4507c0-48df-449f-9c9b-232e9e9bfe06",
   "metadata": {},
   "outputs": [
    {
     "data": {
      "text/plain": [
       "tensor([[[-0.5177, -1.5931],\n",
       "         [-1.8839, -0.2506],\n",
       "         [ 1.1280,  0.8048],\n",
       "         [-0.6856, -0.6511]],\n",
       "\n",
       "        [[ 0.6433, -0.2491],\n",
       "         [-0.9002, -1.5961],\n",
       "         [-0.0243,  1.2064],\n",
       "         [-1.1127,  0.5453]],\n",
       "\n",
       "        [[-0.1323,  0.2483],\n",
       "         [ 0.5800, -1.5616],\n",
       "         [ 0.5144,  0.8739],\n",
       "         [-0.0612, -0.6611]]])"
      ]
     },
     "execution_count": 8,
     "metadata": {},
     "output_type": "execute_result"
    }
   ],
   "source": [
    "BTC = torch.randn(3, 4, 2)\n",
    "BTC"
   ]
  },
  {
   "cell_type": "markdown",
   "id": "7d43bbdc-11b5-41dd-9f46-2035edd9bb9d",
   "metadata": {},
   "source": [
    "so now our 'w' in when is represented by 2 numbers - a duple, the first element of the sequence of the first example in the batch"
   ]
  },
  {
   "cell_type": "code",
   "execution_count": 9,
   "id": "7b560866-0560-4654-afdb-a4ee1b60326e",
   "metadata": {},
   "outputs": [
    {
     "name": "stdout",
     "output_type": "stream",
     "text": [
      "w tensor([-0.5177, -1.5931])\n"
     ]
    },
    {
     "data": {
      "text/plain": [
       "('X', tensor(-0.5177), 'Y', tensor(-1.5931))"
      ]
     },
     "execution_count": 9,
     "metadata": {},
     "output_type": "execute_result"
    }
   ],
   "source": [
    "w = BTC[0, 0]\n",
    "print(\"w\", w)\n",
    "w_ChannelX = w[0]\n",
    "w_ChannelY = w[1]\n",
    "\"X\", w_ChannelX, \"Y\", w_ChannelY"
   ]
  },
  {
   "cell_type": "markdown",
   "id": "30e3729f-7251-4d2b-a361-358169f48070",
   "metadata": {},
   "source": [
    "## Read a book\n",
    "lets read some lines from a book and play with them"
   ]
  },
  {
   "cell_type": "code",
   "execution_count": 6,
   "id": "60286326-e1a1-48ac-8201-f6039bd87abe",
   "metadata": {},
   "outputs": [],
   "source": [
    "%run bookreader.py"
   ]
  },
  {
   "cell_type": "code",
   "execution_count": 7,
   "id": "3958b9c2-bdb9-489d-a510-2e7b732cc3d4",
   "metadata": {},
   "outputs": [
    {
     "name": "stdout",
     "output_type": "stream",
     "text": [
      "number of symbols 40 lengths of our train, dev, test splits 123400 19700 18525\n",
      "the symbols with their int representations (zero is a newline)\n",
      "0:\n",
      ", 1: , 2:!, 3:0, 4:1, 5:2, 6:3, 7:4, 8:5, 9:6, 10:7, 11:8, 12:9, 13:?, 14:a, 15:b, 16:c, 17:d, 18:e, 19:f, 20:g, 21:h, 22:i, 23:j, 24:k, 25:l, 26:m, 27:n, 28:o, 29:p, 30:q, 31:r, 32:s, 33:t, 34:u, 35:v, 36:w, 37:x, 38:y, 39:z, \n",
      "the text with each character encoded to an int in our lookup\n",
      "tensor([ 1, 16, 21, 14, 29, 33, 18, 31,  1, 22,  1,  0, 17, 28, 36, 27,  1, 33,\n",
      "        21, 18,  1, 31, 14, 15, 15, 22, 33,  1, 21, 28, 25, 18,  0,  0,  0, 14,\n",
      "        25, 22, 16, 18,  1, 36, 14, 32,  1, 15, 18, 20, 22, 27, 27, 22, 27, 20,\n",
      "         1, 33, 28,  1, 20, 18, 33,  1, 35, 18, 31, 38,  1, 33, 22, 31, 18, 17,\n",
      "         1, 28, 19,  1, 32, 22, 33, 33, 22, 27, 20,  1, 15, 38,  1, 21, 18, 31,\n",
      "         1, 32, 22, 32, 33, 18, 31,  1, 28, 27,  1, 33, 21, 18,  0, 15, 14, 27,\n",
      "        24,  1,  1, 14, 27, 17,  1, 28, 19,  1, 21, 14, 35, 22, 27, 20,  1, 27,\n",
      "        28, 33, 21, 22, 27, 20,  1, 33, 28,  1, 17, 28,  1,  1, 28, 27, 16, 18,\n",
      "         1, 28, 31,  1, 33, 36, 22, 16, 18,  1, 32, 21, 18,  1, 21, 14, 17,  1,\n",
      "        29, 18, 18, 29, 18, 17,  1, 22, 27, 33, 28,  0, 33, 21, 18,  1, 15, 28,\n",
      "        28, 24,  1, 21, 18, 31,  1, 32, 22, 32, 33, 18, 31,  1, 36, 14, 32,  1,\n",
      "        31, 18, 14, 17, 22, 27, 20,  1,  1, 15, 34, 33,  1, 22, 33,  1, 21, 14,\n",
      "        17,  1, 27, 28,  1, 29, 22, 16, 33, 34, 31, 18, 32,  1, 28, 31,  0, 16,\n",
      "        28, 27, 35, 18, 31, 32, 14, 33, 22, 28, 27, 32,  1, 22, 27,  1, 22, 33,\n",
      "         1,  1,  1, 14, 27, 17,  1, 36, 21, 14, 33,  1, 22, 32,  1, 33, 21, 18,\n",
      "         1, 34, 32, 18,  1, 28, 19,  1, 14,  1, 15, 28, 28, 24,  1,  1,  1, 33,\n",
      "        21, 28, 34, 20, 21, 33,  1, 14, 25, 22, 16, 18,  0,  1, 36, 22, 33, 21,\n",
      "        28, 34, 33,  1, 29, 22, 16, 33, 34, 31, 18, 32,  1, 28, 31,  1, 16, 28,\n",
      "        27, 35, 18, 31, 32, 14, 33, 22, 28, 27, 32, 13,  1,  0,  0, 32, 28,  1,\n",
      "        32, 21, 18,  1, 36, 14, 32,  1, 16, 28, 27, 32, 22, 17, 18, 31, 22, 27,\n",
      "        20,  1, 22, 27,  1, 21, 18, 31,  1, 28, 36, 27,  1, 26, 22, 27, 17,  1,\n",
      "         1, 14, 32,  1, 36, 18, 25, 25,  1, 14, 32,  1, 32, 21, 18,  1, 16, 28,\n",
      "        34, 25, 17,  1])\n",
      "the text decoded from the int representations\n"
     ]
    },
    {
     "data": {
      "text/plain": [
       "' chapter i \\ndown the rabbit hole\\n\\n\\nalice was beginning to get very tired of sitting by her sister on the\\nbank  and of having nothing to do  once or twice she had peeped into\\nthe book her sister was reading  but it had no pictures or\\nconversations in it   and what is the use of a book   thought alice\\n without pictures or conversations? \\n\\nso she was considering in her own mind  as well as she could '"
      ]
     },
     "execution_count": 7,
     "metadata": {},
     "output_type": "execute_result"
    }
   ],
   "source": [
    "alice = BookReader(\"alice.txt\")\n",
    "\n",
    "print(\"number of symbols\", alice.vocab_size, \"lengths of our train, dev, test splits\", len(alice.data[0]), len(alice.data[1]), len(alice.data[2]))\n",
    "print(\"the symbols with their int representations (zero is a newline)\")\n",
    "symbols = \"\"\n",
    "for i, c in enumerate(alice.chars):\n",
    "    symbols += f\"{i}:{c}, \"\n",
    "print(symbols)\n",
    "encodedText = torch.tensor(alice.data[0][:400])\n",
    "print(\"the text with each character encoded to an int in our lookup\")\n",
    "print(encodedText)\n",
    "print(\"the text decoded from the int representations\")\n",
    "alice.decode(encodedText.tolist())"
   ]
  },
  {
   "cell_type": "markdown",
   "id": "7c10f7bb-5792-476f-accc-2225d9c0da7a",
   "metadata": {},
   "source": [
    "## Data loading\n",
    "typically we want to get batches of a given sequence length from one of our train, dev, test data sets\n",
    "\n",
    "for sequence length we want the combined length of the example and the target - we tend to use x and y in our code\n",
    "\n",
    "so for our texts the examples each have context length number of symbols and the labels are what follows (typically a single symbol in our simple models)\n",
    "\n",
    "so to use get_batch to get a batch 5 sequences which each contain 5 symbols and their labels of length 1 we can call\n",
    "\n",
    "get_batch(train, 6, 5)\n",
    "\n",
    "below we show we can choose any value >=6 and use splits to form our x and y"
   ]
  },
  {
   "cell_type": "code",
   "execution_count": 8,
   "id": "a47c9175-1966-4d1a-b1c9-1789cbf7ad9b",
   "metadata": {},
   "outputs": [
    {
     "data": {
      "text/plain": [
       "tensor([[36, 22, 33, 21, 28, 34, 33,  1, 29, 22, 16, 33, 34, 31, 18, 32,  1, 28,\n",
       "         31,  1, 16, 28, 27, 35, 18, 31, 32, 14, 33, 22, 28, 27],\n",
       "        [21, 33,  1, 14, 25, 22, 16, 18,  0,  1, 36, 22, 33, 21, 28, 34, 33,  1,\n",
       "         29, 22, 16, 33, 34, 31, 18, 32,  1, 28, 31,  1, 16, 28],\n",
       "        [32, 14, 33, 22, 28, 27, 32, 13,  1,  0,  0, 32, 28,  1, 32, 21, 18,  1,\n",
       "         36, 14, 32,  1, 16, 28, 27, 32, 22, 17, 18, 31, 22, 27],\n",
       "        [35, 18, 31, 38,  1, 33, 22, 31, 18, 17,  1, 28, 19,  1, 32, 22, 33, 33,\n",
       "         22, 27, 20,  1, 15, 38,  1, 21, 18, 31,  1, 32, 22, 32],\n",
       "        [38,  1, 21, 18, 31,  1, 32, 22, 32, 33, 18, 31,  1, 28, 27,  1, 33, 21,\n",
       "         18,  0, 15, 14, 27, 24,  1,  1, 14, 27, 17,  1, 28, 19]])"
      ]
     },
     "execution_count": 8,
     "metadata": {},
     "output_type": "execute_result"
    }
   ],
   "source": [
    "# data loading\n",
    "def get_batch(data, batch_length=5, batch_size=5):\n",
    "    # generate a small batch of data of inputs x and targets y\n",
    "    ix = torch.randint(len(data) - batch_length, (batch_size,))\n",
    "    b = torch.stack([data[i:i+batch_length] for i in ix])\n",
    "    return b\n",
    "\n",
    "big_size = 32\n",
    "batch_one = get_batch(encodedText, big_size)\n",
    "batch_one"
   ]
  },
  {
   "cell_type": "code",
   "execution_count": 9,
   "id": "af497a10-a59b-48fb-9039-f657863eb06e",
   "metadata": {},
   "outputs": [
    {
     "name": "stdout",
     "output_type": "stream",
     "text": [
      "b:  without pictures or conversation\n",
      "b:  ht alice\n",
      " without pictures or co\n",
      "b:  sations? \n",
      "\n",
      "so she was considerin\n",
      "b:  very tired of sitting by her sis\n",
      "b:  y her sister on the\n",
      "bank  and of\n"
     ]
    }
   ],
   "source": [
    "for i in range(5):\n",
    "    print(\"b: \", alice.decode(batch_one[i].tolist()))"
   ]
  },
  {
   "cell_type": "markdown",
   "id": "d7215a20-4577-4f54-937d-001afde50b22",
   "metadata": {},
   "source": [
    "## X and Y\n",
    "\n",
    "so we can decide after what we want to do with the batch we got\n",
    "\n",
    "from above we know we can index into things easily\n",
    "\n",
    "so we can create an X batch and their Ys as we like, say we wanted Xs of length 4 and we wanted to see Ys of length 3 in our cross_entropy\n",
    "\n",
    "(we just do this so it's easy to see our Ys are the correct following letters)"
   ]
  },
  {
   "cell_type": "code",
   "execution_count": 10,
   "id": "d42dda00-1b8f-43c6-8d1d-e4e05637f26c",
   "metadata": {},
   "outputs": [
    {
     "name": "stdout",
     "output_type": "stream",
     "text": [
      "tensor([[36, 22, 33, 21],\n",
      "        [21, 33,  1, 14],\n",
      "        [32, 14, 33, 22],\n",
      "        [35, 18, 31, 38],\n",
      "        [38,  1, 21, 18]]) tensor([[28, 34, 33],\n",
      "        [25, 22, 16],\n",
      "        [28, 27, 32],\n",
      "        [ 1, 33, 22],\n",
      "        [31,  1, 32]])\n",
      "xy:  with ->  out\n",
      "xy:  ht a ->  lic\n",
      "xy:  sati ->  ons\n",
      "xy:  very ->   ti\n",
      "xy:  y he ->  r s\n"
     ]
    }
   ],
   "source": [
    "context_length = 4\n",
    "x = batch_one[:, 0:context_length]\n",
    "y = batch_one[:, context_length:context_length+3]\n",
    "print(x, y)\n",
    "for i in range(5):\n",
    "    print(\"xy: \", alice.decode(x[i].tolist()), \"-> \", alice.decode(y[i].tolist()))"
   ]
  },
  {
   "cell_type": "markdown",
   "id": "e3c1ca0b-41d5-4ae0-a0de-b0a4ed98a163",
   "metadata": {},
   "source": [
    "## or just do it all at once..."
   ]
  },
  {
   "cell_type": "code",
   "execution_count": 11,
   "id": "3b321cfc-bb47-483f-8193-5e0be93756b3",
   "metadata": {},
   "outputs": [
    {
     "name": "stdout",
     "output_type": "stream",
     "text": [
      "xy:  iste ->  r\n",
      "xy:  avin ->  g\n",
      "xy:  eped ->   \n",
      "xy:  y he ->  r\n",
      "xy:  ice  ->  s\n"
     ]
    }
   ],
   "source": [
    "def get_labeled_batch(data, context_length=4, label_length=1, batch_size=5):\n",
    "    # generate a small batch of data of inputs x and targets y\n",
    "    ix = torch.randint(len(data) - context_length, (batch_size,))\n",
    "    b = torch.stack([data[i:i+context_length+label_length] for i in ix])\n",
    "    \n",
    "    x = b[:, 0:context_length]\n",
    "    y = b[:, context_length:context_length+label_length]\n",
    "    return x, y\n",
    "\n",
    "X, Y = get_labeled_batch(encodedText)\n",
    "for i in range(5):\n",
    "    print(\"xy: \", alice.decode(X[i].tolist()), \"-> \", alice.decode(Y[i].tolist()))"
   ]
  },
  {
   "cell_type": "markdown",
   "id": "48ab28a6-83ae-43ca-a1bb-998725e3c9e2",
   "metadata": {},
   "source": [
    "## multiple examples from a single batch element\n",
    "\n",
    "to get more out of our context we go back to the get_batch() implementation because we want to make multiple examples from a single example \n",
    "\n",
    "looking at a sequence 'alice ' we can form the following\n",
    "* a.... -> e\n",
    "* al... -> i\n",
    "* ali.. -> c\n",
    "* alic. -> e\n",
    "* alice ->\n",
    "\n",
    "so now we want to form the labels for all 5 all at once ['e', 'i', 'c', 'e', ' ']\n",
    "and we can see if we get context_length+1 our example is just [:-1] and our label is just [1:] "
   ]
  },
  {
   "cell_type": "markdown",
   "id": "94e01663-283f-494e-b463-b9ad54dacc3f",
   "metadata": {},
   "source": [
    "## a shortcut to mushrooms\n",
    "\n",
    "we can form these examples using a triangular matric"
   ]
  },
  {
   "cell_type": "code",
   "execution_count": 12,
   "id": "4ffddccf-19fa-4094-80c8-aacda241426f",
   "metadata": {},
   "outputs": [
    {
     "data": {
      "text/plain": [
       "tensor([[1, 0, 0, 0],\n",
       "        [1, 1, 0, 0],\n",
       "        [1, 1, 1, 0],\n",
       "        [1, 1, 1, 1]], dtype=torch.int32)"
      ]
     },
     "execution_count": 12,
     "metadata": {},
     "output_type": "execute_result"
    }
   ],
   "source": [
    "tr = torch.tril(torch.ones((4, 4), dtype=torch.int))\n",
    "tr"
   ]
  },
  {
   "cell_type": "markdown",
   "id": "57f5870f-a802-470b-9467-f5231d7b95e5",
   "metadata": {},
   "source": [
    "if alice was encoded [a->1, l->2, i->3, c->4, e->5]\n",
    "\n",
    "then using our tensor tr we get"
   ]
  },
  {
   "cell_type": "code",
   "execution_count": 13,
   "id": "e6560ef2-e564-4f9a-a344-96f464b99ffd",
   "metadata": {},
   "outputs": [
    {
     "data": {
      "text/plain": [
       "tensor([[1, 0, 0, 0],\n",
       "        [1, 2, 0, 0],\n",
       "        [1, 2, 3, 0],\n",
       "        [1, 2, 3, 4]])"
      ]
     },
     "execution_count": 13,
     "metadata": {},
     "output_type": "execute_result"
    }
   ],
   "source": [
    "al = torch.tensor(range(1, 5))\n",
    "st = al.repeat(1, 4)\n",
    "bt = al * tr\n",
    "bt"
   ]
  },
  {
   "cell_type": "markdown",
   "id": "e9938307-55fa-4bce-a9bd-041254b22edd",
   "metadata": {},
   "source": [
    "## We can batch our batch too \n",
    "\n",
    "using a 3 dimensional triangular tensor"
   ]
  },
  {
   "cell_type": "code",
   "execution_count": 14,
   "id": "a816cdfe-66ef-462f-95b8-efd6562456e0",
   "metadata": {},
   "outputs": [
    {
     "name": "stdout",
     "output_type": "stream",
     "text": [
      "tensor([[[28, 19,  1, 32, 28, 19,  1, 32, 28, 19,  1, 32, 28, 19,  1, 32],\n",
      "         [ 1, 28, 19,  1,  1, 28, 19,  1,  1, 28, 19,  1,  1, 28, 19,  1],\n",
      "         [35, 18, 31, 38, 35, 18, 31, 38, 35, 18, 31, 38, 35, 18, 31, 38],\n",
      "         [36, 21, 14, 33, 36, 21, 14, 33, 36, 21, 14, 33, 36, 21, 14, 33],\n",
      "         [28, 27, 32, 22, 28, 27, 32, 22, 28, 27, 32, 22, 28, 27, 32, 22]]]) torch.Size([1, 5, 16])\n",
      "tensor([[[28, 19,  1, 32],\n",
      "         [28, 19,  1, 32],\n",
      "         [28, 19,  1, 32],\n",
      "         [28, 19,  1, 32]],\n",
      "\n",
      "        [[ 1, 28, 19,  1],\n",
      "         [ 1, 28, 19,  1],\n",
      "         [ 1, 28, 19,  1],\n",
      "         [ 1, 28, 19,  1]],\n",
      "\n",
      "        [[35, 18, 31, 38],\n",
      "         [35, 18, 31, 38],\n",
      "         [35, 18, 31, 38],\n",
      "         [35, 18, 31, 38]],\n",
      "\n",
      "        [[36, 21, 14, 33],\n",
      "         [36, 21, 14, 33],\n",
      "         [36, 21, 14, 33],\n",
      "         [36, 21, 14, 33]],\n",
      "\n",
      "        [[28, 27, 32, 22],\n",
      "         [28, 27, 32, 22],\n",
      "         [28, 27, 32, 22],\n",
      "         [28, 27, 32, 22]]])\n"
     ]
    },
    {
     "data": {
      "text/plain": [
       "tensor([[[28,  0,  0,  0],\n",
       "         [28, 19,  0,  0],\n",
       "         [28, 19,  1,  0],\n",
       "         [28, 19,  1, 32]],\n",
       "\n",
       "        [[ 1,  0,  0,  0],\n",
       "         [ 1, 28,  0,  0],\n",
       "         [ 1, 28, 19,  0],\n",
       "         [ 1, 28, 19,  1]],\n",
       "\n",
       "        [[35,  0,  0,  0],\n",
       "         [35, 18,  0,  0],\n",
       "         [35, 18, 31,  0],\n",
       "         [35, 18, 31, 38]],\n",
       "\n",
       "        [[36,  0,  0,  0],\n",
       "         [36, 21,  0,  0],\n",
       "         [36, 21, 14,  0],\n",
       "         [36, 21, 14, 33]],\n",
       "\n",
       "        [[28,  0,  0,  0],\n",
       "         [28, 27,  0,  0],\n",
       "         [28, 27, 32,  0],\n",
       "         [28, 27, 32, 22]]])"
      ]
     },
     "execution_count": 14,
     "metadata": {},
     "output_type": "execute_result"
    }
   ],
   "source": [
    "context_length = 4\n",
    "batch_one = get_batch(encodedText, context_length + 1)\n",
    "x = batch_one[:, 0:context_length]\n",
    "\n",
    "tr = torch.tril(torch.ones((5, 4, 4), dtype=torch.int))\n",
    "\n",
    "mult = x.repeat(1, 1, 4)\n",
    "print(mult, mult.shape)\n",
    "print(mult.view(5, 4, 4))\n",
    "\n",
    "lower_batch = mult.view(5, 4, 4) * tr\n",
    "lower_batch"
   ]
  },
  {
   "cell_type": "markdown",
   "id": "f346d317-5d40-4813-9e93-bf331c2be1a4",
   "metadata": {},
   "source": [
    "Now say we put these through something to calculate the next character all the examples in each batch \n",
    "\n",
    "we can see that the solution for the first batch, batch is as expected"
   ]
  },
  {
   "cell_type": "code",
   "execution_count": 15,
   "id": "cd750a2e-5a46-4b5c-8477-3a0545ef719b",
   "metadata": {},
   "outputs": [
    {
     "name": "stdout",
     "output_type": "stream",
     "text": [
      "tensor([[28,  0,  0,  0],\n",
      "        [28, 19,  0,  0],\n",
      "        [28, 19,  1,  0],\n",
      "        [28, 19,  1, 32]])\n"
     ]
    },
    {
     "data": {
      "text/plain": [
       "tensor([19,  1, 32, 22])"
      ]
     },
     "execution_count": 15,
     "metadata": {},
     "output_type": "execute_result"
    }
   ],
   "source": [
    "print(lower_batch[0])\n",
    "batch_no = 0\n",
    "y = batch_one[batch_no, batch_no+1: batch_no+context_length+1]\n",
    "y"
   ]
  },
  {
   "cell_type": "code",
   "execution_count": 26,
   "id": "699417ce-094d-4be1-9dc5-6093f1215d04",
   "metadata": {},
   "outputs": [
    {
     "name": "stdout",
     "output_type": "stream",
     "text": [
      "torch.Size([5, 4, 4]) torch.Size([5, 4])\n"
     ]
    },
    {
     "data": {
      "text/plain": [
       "(tensor([28,  0,  0,  0, 28, 19,  0,  0, 28, 19,  1,  0, 28, 19,  1, 32,  1,  0,\n",
       "          0,  0,  1, 28,  0,  0,  1, 28, 19,  0,  1, 28, 19,  1, 35,  0,  0,  0,\n",
       "         35, 18,  0,  0, 35, 18, 31,  0, 35, 18, 31, 38, 36,  0,  0,  0, 36, 21,\n",
       "          0,  0, 36, 21, 14,  0, 36, 21, 14, 33, 28,  0,  0,  0, 28, 27,  0,  0,\n",
       "         28, 27, 32,  0, 28, 27, 32, 22]),\n",
       " tensor([19,  1, 32, 22, 28, 19,  1, 21, 18, 31, 38,  1, 21, 14, 33,  1, 27, 32,\n",
       "         22, 17]))"
      ]
     },
     "execution_count": 26,
     "metadata": {},
     "output_type": "execute_result"
    }
   ],
   "source": [
    "ys = y = batch_one[:, batch_no+1: batch_no+context_length+1]\n",
    "\n",
    "print(lower_batch.shape, ys.shape)\n",
    "\n",
    "lower_batch.view(-1), ys.reshape(20)"
   ]
  }
 ],
 "metadata": {
  "kernelspec": {
   "display_name": "Python 3 (ipykernel)",
   "language": "python",
   "name": "python3"
  },
  "language_info": {
   "codemirror_mode": {
    "name": "ipython",
    "version": 3
   },
   "file_extension": ".py",
   "mimetype": "text/x-python",
   "name": "python",
   "nbconvert_exporter": "python",
   "pygments_lexer": "ipython3",
   "version": "3.11.7"
  }
 },
 "nbformat": 4,
 "nbformat_minor": 5
}
