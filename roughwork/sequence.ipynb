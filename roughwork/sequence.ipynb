{
 "cells": [
  {
   "cell_type": "markdown",
   "id": "623a40b8-15f3-474b-b2d8-a2e8a4559672",
   "metadata": {},
   "source": [
    "### ok lets look beyond the bigram\n",
    "\n",
    "now we look at a context length within names\n",
    "\n",
    "for 'emma' before we had\n",
    "\n",
    "* e -> m\n",
    "* m -> m\n",
    "* m -> a\n",
    "* a -> .\n",
    "\n",
    "this becomes\n",
    "\n",
    "* ...e  -> m\n",
    "* ..em  -> m\n",
    "* .emm  -> a\n",
    "* emma  -> .\n",
    "\n",
    "so now we're considering how a sequence of letters generates the following letter"
   ]
  },
  {
   "cell_type": "code",
   "execution_count": 1,
   "id": "1998a4ba-4781-49c6-93e0-cde038779ab7",
   "metadata": {},
   "outputs": [],
   "source": [
    "import torch\n",
    "import torch.nn.functional as F\n",
    "import torch.nn as nn"
   ]
  },
  {
   "cell_type": "code",
   "execution_count": 27,
   "id": "10e407ab-2f2f-4cfe-908f-8a49d0a50786",
   "metadata": {},
   "outputs": [],
   "source": [
    "# our embedding space\n",
    "context_length = 5\n",
    "embedding_dimensions = 2\n",
    "vocab_size = 27\n",
    "es = torch.randn(vocab_size, embedding_dimensions)"
   ]
  },
  {
   "cell_type": "code",
   "execution_count": 22,
   "id": "334f6638-8720-4bbb-ae02-fe9306bc7f9e",
   "metadata": {},
   "outputs": [
    {
     "data": {
      "text/plain": [
       "(torch.Size([27, 2]), tensor(0.3949), tensor([0.5134, 1.6276]))"
      ]
     },
     "execution_count": 22,
     "metadata": {},
     "output_type": "execute_result"
    }
   ],
   "source": [
    "# show the embedding space an the 'a' co-ordinates (Transpose es just to save display space)\n",
    "es.shape, es[0,0], es[1]"
   ]
  },
  {
   "cell_type": "code",
   "execution_count": 4,
   "id": "21bc0bff-e304-42ec-b410-a925d051a7fc",
   "metadata": {},
   "outputs": [],
   "source": [
    "with open(\"names.txt\", \"r\") as r:\n",
    "    names = [\".\" + f + \".\" for f in r.read().split()]\n",
    "\n",
    "import string\n",
    "letters = [l for l in string.ascii_lowercase]\n",
    "\n",
    "itos = {0: \".\"}\n",
    "stoi = {\".\": 0}\n",
    "\n",
    "for i, l in enumerate(letters):\n",
    "    offset = i+1\n",
    "    stoi[l] = offset\n",
    "    itos[offset] = l\n"
   ]
  },
  {
   "cell_type": "code",
   "execution_count": 5,
   "id": "cbbff759-28b1-4bd0-8b1e-4917c8d06ac3",
   "metadata": {},
   "outputs": [
    {
     "data": {
      "text/plain": [
       "(1, 32033)"
      ]
     },
     "execution_count": 5,
     "metadata": {},
     "output_type": "execute_result"
    }
   ],
   "source": [
    "stoi['a'], len(names)"
   ]
  },
  {
   "cell_type": "code",
   "execution_count": 6,
   "id": "c4c40a23-9089-409a-9d52-5b5fde7b2f5a",
   "metadata": {},
   "outputs": [
    {
     "data": {
      "text/plain": [
       "['.amariya.', '.seraphim.']"
      ]
     },
     "execution_count": 6,
     "metadata": {},
     "output_type": "execute_result"
    }
   ],
   "source": [
    "from random import randrange\n",
    "\n",
    "names_length = len(names)\n",
    "\n",
    "def sample_names(size=5):\n",
    "    batch_names = []\n",
    "    for i in range(size):\n",
    "        ni = randrange(names_length-1)\n",
    "        name = names[ni]\n",
    "        batch_names.append(name)\n",
    "    return batch_names\n",
    "\n",
    "sample_names(2)"
   ]
  },
  {
   "cell_type": "markdown",
   "id": "b312b73b-8b7e-4f4c-be29-9449a1b21afa",
   "metadata": {},
   "source": [
    "### the new part\n",
    "\n",
    "now for our xs we take the name and break it into a number of windows of length 'context_lenght' = 4"
   ]
  },
  {
   "cell_type": "code",
   "execution_count": 7,
   "id": "6bbdd29d-0ba0-4ded-9f52-d040f79626ed",
   "metadata": {},
   "outputs": [
    {
     "data": {
      "text/plain": [
       "['.....', '....t', '...ti', '..tim', '.timo', 'timot', 'imoth', 'mothy']"
      ]
     },
     "execution_count": 7,
     "metadata": {},
     "output_type": "execute_result"
    }
   ],
   "source": [
    "def word_contexts(word):\n",
    "    samples = []\n",
    "    max_length = len(word)\n",
    "    fill = '.' * context_length\n",
    "    for i in range(1,max_length):\n",
    "        st = max(0, i-context_length)\n",
    "        filled = fill[i:] + word[st:i]\n",
    "        samples.append(filled[:context_length])\n",
    "    return samples\n",
    "word_contexts(\".timothy.\")"
   ]
  },
  {
   "cell_type": "code",
   "execution_count": 19,
   "id": "81c38c1d-0dba-4cdf-b5f0-08ea67a88487",
   "metadata": {},
   "outputs": [],
   "source": [
    "def get_xys(samples):\n",
    "    xs, ys = [], []\n",
    "    for s in samples:\n",
    "        for ctx in word_contexts(s):\n",
    "            x =  [stoi[c] for c in ctx]\n",
    "            xs.append(x)\n",
    "        y = [stoi[c] for c in s[1:]]\n",
    "        ys += y\n",
    "\n",
    "    return xs, ys"
   ]
  },
  {
   "cell_type": "code",
   "execution_count": 9,
   "id": "d79e625d-4b90-47a7-b2d8-35daf2a6f89d",
   "metadata": {},
   "outputs": [
    {
     "name": "stdout",
     "output_type": "stream",
     "text": [
      "[8, 15, 23, 1, 18, 4, 0, 11, 1, 4, 9, 19, 15, 14, 0]\n"
     ]
    },
    {
     "data": {
      "text/plain": [
       "(torch.Size([15, 5]),\n",
       " tensor([[ 0,  0,  0,  0,  0],\n",
       "         [ 0,  0,  0,  0,  8],\n",
       "         [ 0,  0,  0,  8, 15],\n",
       "         [ 0,  0,  8, 15, 23],\n",
       "         [ 0,  8, 15, 23,  1],\n",
       "         [ 8, 15, 23,  1, 18],\n",
       "         [15, 23,  1, 18,  4],\n",
       "         [ 0,  0,  0,  0,  0],\n",
       "         [ 0,  0,  0,  0, 11],\n",
       "         [ 0,  0,  0, 11,  1],\n",
       "         [ 0,  0, 11,  1,  4],\n",
       "         [ 0, 11,  1,  4,  9],\n",
       "         [11,  1,  4,  9, 19],\n",
       "         [ 1,  4,  9, 19, 15],\n",
       "         [ 4,  9, 19, 15, 14]]),\n",
       " torch.Size([15]))"
      ]
     },
     "execution_count": 9,
     "metadata": {},
     "output_type": "execute_result"
    }
   ],
   "source": [
    "x, y = get_xys(sample_names(2))\n",
    "print(y)\n",
    "X, Y = torch.tensor(x), torch.tensor(y)\n",
    "X.shape, X, Y.shape"
   ]
  },
  {
   "cell_type": "markdown",
   "id": "79fa1191-27b6-4f65-b48a-114d1b1ce261",
   "metadata": {},
   "source": [
    "## OK lets run this and see what happens..."
   ]
  },
  {
   "cell_type": "code",
   "execution_count": 35,
   "id": "7cd98882-38fe-49bb-a461-033d0c4256ca",
   "metadata": {},
   "outputs": [],
   "source": [
    "es = torch.randn((vocab_size, embedding_dimensions), requires_grad=True)\n",
    "W1 = torch.randn((embedding_dimensions*context_length, 100), requires_grad=True)\n",
    "b1 = torch.randn(100, requires_grad=True)\n",
    "W2 = torch.randn((100, 27), requires_grad=True)\n",
    "b2 = torch.randn(27, requires_grad=True)\n",
    "\n",
    "parameters = [es, W1, b1, W2, b2]"
   ]
  },
  {
   "cell_type": "code",
   "execution_count": 36,
   "id": "88c86409-6c7a-43b1-ab79-f74c43964fe6",
   "metadata": {},
   "outputs": [],
   "source": [
    "names_length = len(names)\n",
    "epochs = 120\n",
    "batch_size = 800\n",
    "learning_rate = .2\n",
    "samples = 1000 #in future we want our epoch to roughly sample everything - names_length / batch_size"
   ]
  },
  {
   "cell_type": "code",
   "execution_count": 38,
   "id": "9035d60c-d95d-4871-88b8-3ffdcfa061c3",
   "metadata": {},
   "outputs": [
    {
     "name": "stdout",
     "output_type": "stream",
     "text": [
      "tensor(2.4213, grad_fn=<DivBackward0>)\n",
      "tensor(2.4109, grad_fn=<DivBackward0>)\n"
     ]
    }
   ],
   "source": [
    "for ep in range(epochs):\n",
    "    epoch_loss = 0\n",
    "    for s in range(samples):\n",
    "        x, y = get_xys(sample_names(batch_size))\n",
    "        X = torch.tensor(x)\n",
    "        Y = torch.tensor(y)\n",
    "        train = es[X.view(-1)]\n",
    "        l_in = train.view(-1, embedding_dimensions * context_length)\n",
    "        # print(\"linear input\", l_in)\n",
    "        outputL1 = torch.relu(l_in @ W1 + b1)\n",
    "        \n",
    "        logits = outputL1 @ W2 + b2\n",
    "        # print(\"cross_entropy input\", logits.shape, Y.shape)\n",
    "        \n",
    "        loss = F.cross_entropy(logits, Y)\n",
    "\n",
    "        epoch_loss += loss\n",
    "\n",
    "        for p in parameters:\n",
    "            p.grad = None\n",
    "        \n",
    "        loss.backward()\n",
    "\n",
    "        for p in parameters:\n",
    "            p.data -= learning_rate * p.grad\n",
    "        \n",
    "    print(epoch_loss/samples)\n",
    "    learning_rate *= .98\n",
    "    # print(ep, learning_rate)"
   ]
  },
  {
   "cell_type": "code",
   "execution_count": 19,
   "id": "6466eaa0-86ee-48fa-b805-9a3bb3fa545d",
   "metadata": {},
   "outputs": [
    {
     "name": "stdout",
     "output_type": "stream",
     "text": [
      "jcalu\n"
     ]
    }
   ],
   "source": [
    "def generate_names(num_names):\n",
    "    for i in range(num_names):\n",
    "        out = []\n",
    "        ix = [0, 0, 0, 0, 0]\n",
    "        for nl in range(10):\n",
    "            xenc = es[ix]\n",
    "\n",
    "            outputL1 = torch.relu(xenc.view(-1, 2 * context_length) @ W1 + b1)\n",
    "            logits = outputL1 @ W2 + b2\n",
    "            \n",
    "            p = F.softmax(logits, dim=1)\n",
    "    \n",
    "            # ## torch.multinomial pulls out an index in p (num_samples=1) by sampling from the elements in p according to their probabilities \n",
    "            # ## (p is normalized in the softmax above)\n",
    "            prediction = torch.multinomial(p, num_samples=1).item()\n",
    "            \n",
    "            ix = [ix[1], ix[2], ix[3], ix[4], prediction]\n",
    "\n",
    "            if prediction == 0:\n",
    "                break\n",
    "            out.append(itos[prediction])\n",
    "            \n",
    "        print(\"\".join(out))\n",
    "\n",
    "generate_names(1)"
   ]
  },
  {
   "cell_type": "code",
   "execution_count": 20,
   "id": "964cdce5-effd-45a8-be31-2a37ad9ac7c7",
   "metadata": {},
   "outputs": [
    {
     "name": "stdout",
     "output_type": "stream",
     "text": [
      "ylyuj\n",
      "eraa\n",
      "kmanua\n",
      "ckillee\n",
      "rdvayno\n",
      "kemr\n",
      "kouiaads\n",
      "adina\n",
      "kmimasg\n",
      "kabvela\n",
      "zradst\n",
      "jmaaade\n",
      "kmawoe\n",
      "kbaaa\n",
      "meeassna\n"
     ]
    }
   ],
   "source": [
    "generate_names(15)"
   ]
  },
  {
   "cell_type": "markdown",
   "id": "e4c41ebc-9596-4dc9-a816-59cefc0abd3c",
   "metadata": {},
   "source": [
    "## Better everything\n",
    "\n",
    "our names are definitely better also maybe more interesting are plots of our embedding space\n",
    "\n",
    "below are plots from separate runs with randomly generated parameters\n",
    "\n",
    "all the plots group a, e, i, o, u and y...\n",
    "\n",
    ". (dot) is an outlier\n",
    "\n",
    "the constants are interesting too\n",
    "\n",
    "c, p, g, s, b, t cluster \n",
    "\n",
    "k, d cluster etc...\n",
    "\n",
    "so we're both making better words and discovering some underlying order\n",
    "\n",
    "for some reason n and h seem pulled towards the vowels too"
   ]
  },
  {
   "cell_type": "code",
   "execution_count": 21,
   "id": "53d9d7a8-9d72-4161-a2c0-f96025b1f11a",
   "metadata": {},
   "outputs": [],
   "source": [
    "import matplotlib.pyplot as plt"
   ]
  },
  {
   "cell_type": "code",
   "execution_count": 22,
   "id": "c9ee12d6-6c1b-4ac3-a2b8-83ffa27607d4",
   "metadata": {},
   "outputs": [
    {
     "data": {
      "image/png": "[encoded data removed]",
      "text/plain": [
       "<Figure size 640x480 with 1 Axes>"
      ]
     },
     "metadata": {},
     "output_type": "display_data"
    }
   ],
   "source": [
    "x = es.T[0].tolist()\n",
    "y = es.T[1].tolist()\n",
    "n = ['.'] + letters\n",
    "\n",
    "fig, ax = plt.subplots()\n",
    "ax.scatter(x, y)\n",
    "\n",
    "for i, txt in enumerate(n):\n",
    "    ax.annotate(txt, (x[i], y[i]))"
   ]
  },
  {
   "cell_type": "code",
   "execution_count": 23,
   "id": "2a9d3cb0-6d93-406e-8c23-4bf12428e045",
   "metadata": {},
   "outputs": [
    {
     "data": {
      "image/png": "[encoded data removed]",
      "text/plain": [
       "<Figure size 640x480 with 1 Axes>"
      ]
     },
     "metadata": {},
     "output_type": "display_data"
    }
   ],
   "source": [
    "x = es.T[0].tolist()\n",
    "y = es.T[1].tolist()\n",
    "n = ['.'] + letters\n",
    "\n",
    "fig, ax = plt.subplots()\n",
    "ax.scatter(x, y)\n",
    "\n",
    "for i, txt in enumerate(n):\n",
    "    ax.annotate(txt, (x[i], y[i]))"
   ]
  },
  {
   "cell_type": "code",
   "execution_count": 24,
   "id": "69ab26ac-8251-475e-902e-06d30785cda0",
   "metadata": {},
   "outputs": [
    {
     "data": {
      "image/png": "[encoded data removed]",
      "text/plain": [
       "<Figure size 640x480 with 1 Axes>"
      ]
     },
     "metadata": {},
     "output_type": "display_data"
    }
   ],
   "source": [
    "x = es.T[0].tolist()\n",
    "y = es.T[1].tolist()\n",
    "n = ['.'] + letters\n",
    "\n",
    "fig, ax = plt.subplots()\n",
    "ax.scatter(x, y)\n",
    "\n",
    "for i, txt in enumerate(n):\n",
    "    ax.annotate(txt, (x[i], y[i]))"
   ]
  },
  {
   "cell_type": "code",
   "execution_count": 25,
   "id": "5b214cd1-ef9d-4dc3-97e7-6012eee7a7e0",
   "metadata": {},
   "outputs": [
    {
     "data": {
      "image/png": "[encoded data removed]",
      "text/plain": [
       "<Figure size 640x480 with 1 Axes>"
      ]
     },
     "metadata": {},
     "output_type": "display_data"
    }
   ],
   "source": [
    "x = es.T[0].tolist()\n",
    "y = es.T[1].tolist()\n",
    "n = ['.'] + letters\n",
    "\n",
    "fig, ax = plt.subplots()\n",
    "ax.scatter(x, y)\n",
    "\n",
    "for i, txt in enumerate(n):\n",
    "    ax.annotate(txt, (x[i], y[i]))"
   ]
  },
  {
   "cell_type": "code",
   "execution_count": 26,
   "id": "586eeae3-d678-42a4-8fd8-15ff0b1a7680",
   "metadata": {},
   "outputs": [
    {
     "data": {
      "image/png": "[encoded data removed]",
      "text/plain": [
       "<Figure size 640x480 with 1 Axes>"
      ]
     },
     "metadata": {},
     "output_type": "display_data"
    }
   ],
   "source": [
    "x = es.T[0].tolist()\n",
    "y = es.T[1].tolist()\n",
    "n = ['.'] + letters\n",
    "\n",
    "fig, ax = plt.subplots()\n",
    "ax.scatter(x, y)\n",
    "\n",
    "for i, txt in enumerate(n):\n",
    "    ax.annotate(txt, (x[i], y[i]))"
   ]
  },
  {
   "cell_type": "code",
   "execution_count": 27,
   "id": "7ad97292-373a-476a-8119-1359c05c3e41",
   "metadata": {},
   "outputs": [
    {
     "data": {
      "text/plain": [
       "torch.Size([20, 100, 35, 45])"
      ]
     },
     "execution_count": 27,
     "metadata": {},
     "output_type": "execute_result"
    }
   ],
   "source": [
    "m = nn.BatchNorm2d(100, affine=False)\n",
    "input = torch.randn(20, 100, 35, 45)\n",
    "output = m(input)\n",
    "output.shape"
   ]
  }
 ],
 "metadata": {
  "kernelspec": {
   "display_name": "Python 3 (ipykernel)",
   "language": "python",
   "name": "python3"
  },
  "language_info": {
   "codemirror_mode": {
    "name": "ipython",
    "version": 3
   },
   "file_extension": ".py",
   "mimetype": "text/x-python",
   "name": "python",
   "nbconvert_exporter": "python",
   "pygments_lexer": "ipython3",
   "version": "3.11.7"
  }
 },
 "nbformat": 4,
 "nbformat_minor": 5
}
