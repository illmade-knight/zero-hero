{
 "cells": [
  {
   "cell_type": "code",
   "execution_count": 42,
   "id": "dc4eb32d-e194-49f8-a059-a0599ebd36e3",
   "metadata": {},
   "outputs": [],
   "source": [
    "import torch\n",
    "import torch.nn as nn\n",
    "import torch.nn.functional as F"
   ]
  },
  {
   "cell_type": "code",
   "execution_count": 24,
   "id": "2046e6d5-7324-46cb-8cb3-25d9ce95a439",
   "metadata": {},
   "outputs": [
    {
     "name": "stdout",
     "output_type": "stream",
     "text": [
      "torch.Size([3, 3])\n"
     ]
    },
    {
     "data": {
      "text/plain": [
       "tensor([[1.0000, 0.0000, 0.0000],\n",
       "        [0.5000, 0.5000, 0.0000],\n",
       "        [0.3333, 0.3333, 0.3333]])"
      ]
     },
     "execution_count": 24,
     "metadata": {},
     "output_type": "execute_result"
    }
   ],
   "source": [
    "a = torch.tril(torch.ones(3,3))\n",
    "a = a / a.sum(1, keepdim=True)\n",
    "print(a.shape)\n",
    "a"
   ]
  },
  {
   "cell_type": "code",
   "execution_count": 26,
   "id": "6b0dc262-5cb2-4282-b60f-1a22b2ba9a91",
   "metadata": {},
   "outputs": [
    {
     "name": "stdout",
     "output_type": "stream",
     "text": [
      "tensor([4., 5.])\n"
     ]
    },
    {
     "data": {
      "text/plain": [
       "tensor([[4.0000, 5.0000],\n",
       "        [5.5000, 6.0000],\n",
       "        [4.0000, 4.3333]])"
      ]
     },
     "execution_count": 26,
     "metadata": {},
     "output_type": "execute_result"
    }
   ],
   "source": [
    "b2d = torch.tensor( [\n",
    "       [4, 5],\n",
    "       [7, 7], \n",
    "       [1, 1]\n",
    "      ], dtype=torch.float)\n",
    "print(b2d[0])\n",
    "a @ b2d"
   ]
  },
  {
   "cell_type": "code",
   "execution_count": 39,
   "id": "7b85186c-c363-44be-9e18-057ae30e0c5e",
   "metadata": {},
   "outputs": [
    {
     "data": {
      "text/plain": [
       "tensor([[1.0000, 0.0000, 0.0000],\n",
       "        [0.5000, 0.5000, 0.0000],\n",
       "        [0.3333, 0.3333, 0.3333]])"
      ]
     },
     "execution_count": 39,
     "metadata": {},
     "output_type": "execute_result"
    }
   ],
   "source": [
    "an = torch.tril(torch.ones(3, 3))\n",
    "affin = torch.zeros(3, 3)\n",
    "masked_affin = affin.masked_fill(an == 0, float('-inf'))\n",
    "wei = F.softmax(masked_affin, 1)\n",
    "wei"
   ]
  },
  {
   "cell_type": "markdown",
   "id": "064c0c05-41bb-40cd-b31e-1bc44603eb15",
   "metadata": {},
   "source": [
    "## The position embedding table\n",
    "\n",
    "this seems rushed through, we create an embedding for positions - so for context length - instead of a dimensional embedding of vocab_size"
   ]
  },
  {
   "cell_type": "code",
   "execution_count": 47,
   "id": "c03d1a2c-13df-4d98-a6e4-e88920dfc132",
   "metadata": {},
   "outputs": [],
   "source": [
    "n_embed = 3\n",
    "vocab_size = 27\n",
    "\n",
    "batch_size = 4\n",
    "context_length = 8"
   ]
  },
  {
   "cell_type": "code",
   "execution_count": 45,
   "id": "851609f4-1070-44da-8586-8ae7d3675902",
   "metadata": {},
   "outputs": [],
   "source": [
    "vocab_embedding_table = nn.Embedding(vocab_size, n_embed)\n",
    "position_embedding_table = nn.Embedding(context_length, n_embed)"
   ]
  },
  {
   "cell_type": "markdown",
   "id": "d51d4069-1985-48f7-840a-b93fe66106f0",
   "metadata": {},
   "source": [
    "### The attention head"
   ]
  },
  {
   "cell_type": "code",
   "execution_count": 62,
   "id": "636103a0-1377-43e7-a795-f885108f44b0",
   "metadata": {},
   "outputs": [],
   "source": [
    "head_size = 7\n",
    "channels = 3\n",
    "\n",
    "tril = torch.tril(torch.ones(context_length, context_length))\n",
    "\n",
    "key = nn.Linear(channels, head_size, bias=False)\n",
    "query = nn.Linear(channels, head_size, bias=False)\n",
    "## add in \n",
    "value = nn.Linear(channels, head_size, bias=False)"
   ]
  },
  {
   "cell_type": "code",
   "execution_count": 61,
   "id": "a4e7bcb3-29bf-4766-9b0f-e630598e90ea",
   "metadata": {},
   "outputs": [
    {
     "name": "stdout",
     "output_type": "stream",
     "text": [
      "torch.Size([4, 8, 7])\n",
      "torch.Size([7, 8, 4])\n",
      "torch.Size([7, 4, 8])\n"
     ]
    }
   ],
   "source": [
    "x = torch.randn(batch_size, context_length, channels)\n",
    "\n",
    "k = key(x)\n",
    "# k = B, T, head_size  - 4, 8, 7\n",
    "print(k.shape)\n",
    "q = query(x)\n",
    "# k = B, T, head_size\n",
    "print(q.T.shape)\n",
    "print(q.T.transpose(-2, -1).shape)\n",
    "\n",
    "#the dot product tells us how much our query matches our key\n",
    "kq_match = k @ q.transpose(-2,-1) * head_size**-0.5"
   ]
  },
  {
   "cell_type": "code",
   "execution_count": 68,
   "id": "aade8f46-ccd5-48a2-8975-c16d60d0a954",
   "metadata": {},
   "outputs": [
    {
     "data": {
      "text/plain": [
       "(tensor([[ 0.0133,  0.0128,  0.0804,  0.0109, -0.0140,  0.0084, -0.0427],\n",
       "         [-0.0201,  0.0575,  0.1769, -0.0321,  0.0267,  0.0577, -0.1006],\n",
       "         [ 0.0136,  0.0729,  0.1439, -0.0098,  0.0543, -0.0789,  0.0091],\n",
       "         [ 0.0576, -0.0090,  0.0178,  0.0561, -0.0350, -0.0893,  0.0386],\n",
       "         [ 0.0105,  0.0810,  0.1299, -0.0166,  0.0727, -0.1026,  0.0359],\n",
       "         [-0.2225,  0.1369, -0.0745, -0.2581,  0.2942,  0.1025,  0.0596],\n",
       "         [-0.2247,  0.1050,  0.0559, -0.2405,  0.1968,  0.2901, -0.1451],\n",
       "         [-0.1254,  0.0277,  0.1586, -0.1153,  0.0143,  0.3401, -0.2778]],\n",
       "        grad_fn=<SelectBackward0>),\n",
       " torch.Size([4, 8, 7]))"
      ]
     },
     "execution_count": 68,
     "metadata": {},
     "output_type": "execute_result"
    }
   ],
   "source": [
    "masked_affin = kq_match.masked_fill(tril == 0, float('-inf'))\n",
    "wei = F.softmax(masked_affin, 1)\n",
    "\n",
    "wei[0]\n",
    "\n",
    "v = value(x)\n",
    "out = wei @ v\n",
    "out[0], out.shape"
   ]
  }
 ],
 "metadata": {
  "kernelspec": {
   "display_name": "Python 3 (ipykernel)",
   "language": "python",
   "name": "python3"
  },
  "language_info": {
   "codemirror_mode": {
    "name": "ipython",
    "version": 3
   },
   "file_extension": ".py",
   "mimetype": "text/x-python",
   "name": "python",
   "nbconvert_exporter": "python",
   "pygments_lexer": "ipython3",
   "version": "3.11.7"
  }
 },
 "nbformat": 4,
 "nbformat_minor": 5
}
