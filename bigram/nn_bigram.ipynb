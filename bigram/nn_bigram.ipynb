{
 "cells": [
  {
   "cell_type": "code",
   "execution_count": 2,
   "id": "08e14235-4d5e-46d3-b1c5-e61d5b0cd645",
   "metadata": {},
   "outputs": [],
   "source": [
    "with open(\"names.txt\", \"r\") as r:\n",
    "    names = [\".\" + f + \".\" for f in r.read().split()]"
   ]
  },
  {
   "cell_type": "markdown",
   "id": "7e71a7ac-7b13-4b33-9905-3cda94bb9647",
   "metadata": {},
   "source": [
    "## embedding\n",
    "\n",
    "our bigram embedding is very simple - letters to numbers\n",
    "\n",
    "so to go from a letter to its represenation we just create a map\n",
    "\n",
    "and to go back from the embedding to a letter we just reverse"
   ]
  },
  {
   "cell_type": "code",
   "execution_count": 3,
   "id": "d68f0fa3-8e3d-4747-9b21-81b70ca483fe",
   "metadata": {},
   "outputs": [
    {
     "data": {
      "text/plain": [
       "(1, 'a')"
      ]
     },
     "execution_count": 3,
     "metadata": {},
     "output_type": "execute_result"
    }
   ],
   "source": [
    "import string\n",
    "letters = [l for l in string.ascii_lowercase]\n",
    "\n",
    "itos = {0: \".\"}\n",
    "stoi = {\".\": 0}\n",
    "\n",
    "for i, l in enumerate(letters):\n",
    "    offset = i+1\n",
    "    stoi[l] = offset\n",
    "    itos[offset] = l\n",
    "\n",
    "stoi[\"a\"], itos[1]"
   ]
  },
  {
   "cell_type": "markdown",
   "id": "ffd8f3bf-0e13-426c-91fd-d5435cc6d4d3",
   "metadata": {},
   "source": [
    "## training set\n",
    "\n",
    "our model should take an input letter and predict the next letter so \n",
    "for each name we want to go letter by letter, each time the following letter is the prediction\n"
   ]
  },
  {
   "cell_type": "code",
   "execution_count": 4,
   "id": "e937836e-cc0c-4d63-8530-dc5f6df8a1c3",
   "metadata": {},
   "outputs": [],
   "source": [
    "def train(examples, n=-1):\n",
    "    if n == -1:\n",
    "        n = len(examples)\n",
    "    xs, ys = [], []\n",
    "    for example in examples[:n]:\n",
    "        em = [stoi[c] for c in example] \n",
    "        for x, y in zip(em, em[1:]):\n",
    "            xs.append(x)\n",
    "            ys.append(y)\n",
    "    return xs, ys "
   ]
  },
  {
   "cell_type": "code",
   "execution_count": 9,
   "id": "24bcbd33-b924-439e-91d2-2ffd32ba7c55",
   "metadata": {},
   "outputs": [
    {
     "data": {
      "text/plain": [
       "(([0, 5, 13, 13, 1], [5, 13, 13, 1, 0]), '.emma.')"
      ]
     },
     "execution_count": 9,
     "metadata": {},
     "output_type": "execute_result"
    }
   ],
   "source": [
    "train(names[:6], 1), names[0]"
   ]
  },
  {
   "cell_type": "markdown",
   "id": "9350bba5-00ca-4a1a-bd0b-2f2cd1a122c9",
   "metadata": {},
   "source": [
    "so the first name '.emma.' \n",
    "has multiple traning examples in it\n",
    "\n",
    "it predicts:\n",
    "* 'e' to follow '.' \n",
    "* 'm' to follow 'e'\n",
    "\n",
    "etc\n",
    "\n",
    "train allows us to call a subset of the input collection or by default all of them"
   ]
  },
  {
   "cell_type": "code",
   "execution_count": 12,
   "id": "d08423db-4dad-489d-9204-0c1ec2888460",
   "metadata": {},
   "outputs": [
    {
     "data": {
      "text/plain": [
       "(([0, 5, 13, 13, 1, 0, 15, 12, 9, 22, 9, 1],\n",
       "  [5, 13, 13, 1, 0, 15, 12, 9, 22, 9, 1, 0]),\n",
       " ['.emma.', '.olivia.'])"
      ]
     },
     "execution_count": 12,
     "metadata": {},
     "output_type": "execute_result"
    }
   ],
   "source": [
    "train(names, 2), names[:2]"
   ]
  },
  {
   "cell_type": "markdown",
   "id": "d0d182ab-0330-4347-9949-4a6419f0a580",
   "metadata": {},
   "source": [
    "## Torch\n",
    "\n",
    "now lets start looking at the in terms of torch tensors"
   ]
  },
  {
   "cell_type": "code",
   "execution_count": 13,
   "id": "2a9843ff-15cf-48c5-be57-964544d423d4",
   "metadata": {},
   "outputs": [],
   "source": [
    "import torch\n",
    "import torch.nn.functional as F"
   ]
  },
  {
   "cell_type": "code",
   "execution_count": 14,
   "id": "efd6670d-2493-4d01-82bb-6ce8ace24c50",
   "metadata": {},
   "outputs": [],
   "source": [
    "def torchifi(examples, n=-1, one_hot = True):\n",
    "    xs, ys = train(examples, n)\n",
    "    xs = torch.tensor(xs)\n",
    "    ys = torch.tensor(ys)\n",
    "    if one_hot:\n",
    "        return F.one_hot(xs, num_classes=27).float(), F.one_hot(ys, num_classes=27).float()\n",
    "    else:\n",
    "        return xs, ys"
   ]
  },
  {
   "cell_type": "code",
   "execution_count": 15,
   "id": "cb3fe9a4-7e2f-4ea7-9c8c-2d3fb802f97b",
   "metadata": {},
   "outputs": [
    {
     "data": {
      "text/plain": [
       "tensor([[1., 0., 0., 0., 0., 0., 0., 0., 0., 0., 0., 0., 0., 0., 0., 0., 0., 0.,\n",
       "         0., 0., 0., 0., 0., 0., 0., 0., 0.],\n",
       "        [0., 0., 0., 0., 0., 1., 0., 0., 0., 0., 0., 0., 0., 0., 0., 0., 0., 0.,\n",
       "         0., 0., 0., 0., 0., 0., 0., 0., 0.],\n",
       "        [0., 0., 0., 0., 0., 0., 0., 0., 0., 0., 0., 0., 0., 1., 0., 0., 0., 0.,\n",
       "         0., 0., 0., 0., 0., 0., 0., 0., 0.],\n",
       "        [0., 0., 0., 0., 0., 0., 0., 0., 0., 0., 0., 0., 0., 1., 0., 0., 0., 0.,\n",
       "         0., 0., 0., 0., 0., 0., 0., 0., 0.],\n",
       "        [0., 1., 0., 0., 0., 0., 0., 0., 0., 0., 0., 0., 0., 0., 0., 0., 0., 0.,\n",
       "         0., 0., 0., 0., 0., 0., 0., 0., 0.]])"
      ]
     },
     "execution_count": 15,
     "metadata": {},
     "output_type": "execute_result"
    }
   ],
   "source": [
    "xsoh, ysoh = torchifi(names, 1)\n",
    "xsoh"
   ]
  },
  {
   "cell_type": "markdown",
   "id": "519378bb-44a3-4c8e-9ca0-ad4270d7a7b8",
   "metadata": {},
   "source": [
    "## The neural net\n",
    "\n",
    "now our input vectors are of size n * 27 we need the input layer to take the 27 (one hot) inputs and process them\n",
    "\n",
    "so the first layer needs to be 27 * o\n",
    "\n",
    "lets start with 27 * 1 \n",
    "\n",
    "i.e a single neuron"
   ]
  },
  {
   "cell_type": "code",
   "execution_count": 157,
   "id": "d6de1c92-4a9b-447c-afda-f2addc3036e7",
   "metadata": {},
   "outputs": [
    {
     "data": {
      "text/plain": [
       "(tensor([[-1.0278],\n",
       "         [-0.0474],\n",
       "         [ 0.2602],\n",
       "         [ 0.2602],\n",
       "         [-2.1711]]),\n",
       " torch.Size([5, 1]))"
      ]
     },
     "execution_count": 157,
     "metadata": {},
     "output_type": "execute_result"
    }
   ],
   "source": [
    "W = torch.randn(27, 1)\n",
    "o = xsoh @ W\n",
    "o, o.shape"
   ]
  },
  {
   "cell_type": "markdown",
   "id": "9ede9e0f-d34d-4d04-8194-7c5038e7e56d",
   "metadata": {},
   "source": [
    "## Input, Output\n",
    "\n",
    "so if we have a 5 * 27 input we get a 5, 1 output\n",
    "\n",
    "we'll need an output with a dimension of 27 at some stage to compare to our ys\n",
    "\n",
    "we don't need to do that here - we could have another layer going 1 to 27 or change W 27 * 5 (for example) and  have intermediate layers that reshape until we need that output layer\n",
    "\n",
    "but because we aren't doing anything clever here, let's just compress everything and have W as a 27x27 for simplicity"
   ]
  },
  {
   "cell_type": "code",
   "execution_count": 372,
   "id": "7dc24b61-20fe-4ca6-862b-a5eeba3cfce2",
   "metadata": {},
   "outputs": [],
   "source": [
    "g = torch.Generator().manual_seed(2147483647)\n",
    "# just use a fixed generator for the moment so we can check valaues\n",
    "W = torch.randn(27, 27, generator=g)"
   ]
  },
  {
   "cell_type": "code",
   "execution_count": 373,
   "id": "bc439695-36d9-439d-be65-38c3ca17f0e2",
   "metadata": {},
   "outputs": [
    {
     "data": {
      "text/plain": [
       "torch.Size([5, 27])"
      ]
     },
     "execution_count": 373,
     "metadata": {},
     "output_type": "execute_result"
    }
   ],
   "source": [
    "logits = xsoh @ W\n",
    "logits.shape"
   ]
  },
  {
   "cell_type": "markdown",
   "id": "ca630778-b75e-48f2-a190-66658f09ad20",
   "metadata": {},
   "source": [
    "## Almost ready\n",
    "\n",
    "we now have a 5 x 27 output\n",
    "\n",
    "lets take a moment to remember what we're trying to do, because the tensors, though making things computationally easy, maybe aren't so obvious\n",
    "\n",
    "we had 5 input letters and we were trying to predict good output letters for each of them\n",
    "\n",
    "now we have 5 answers and we want to evaluate how good they are\n",
    "\n",
    "we started with \".\" and from our one name we want the first output to be \"e\" (at the momenet all names are emma so every name starts with an e)\n",
    "\n",
    "why did we call the output 'logits'?\n",
    "\n",
    "basically because we're going to .exp() it to get nicer values...\n",
    "\n",
    "next softmax the logits"
   ]
  },
  {
   "cell_type": "code",
   "execution_count": 374,
   "id": "31664f71-9b25-49ba-95cf-c7f9f4a3141a",
   "metadata": {},
   "outputs": [
    {
     "data": {
      "text/plain": [
       "tensor([0.0607, 0.0100, 0.0123, 0.0042, 0.0168, 0.0123, 0.0027, 0.0232, 0.0137,\n",
       "        0.0313, 0.0079, 0.0278, 0.0091, 0.0082, 0.0500, 0.2378, 0.0603, 0.0025,\n",
       "        0.0249, 0.0055, 0.0339, 0.0109, 0.0029, 0.0198, 0.0118, 0.1537, 0.1459])"
      ]
     },
     "execution_count": 374,
     "metadata": {},
     "output_type": "execute_result"
    }
   ],
   "source": [
    "counts = logits.exp()\n",
    "probs = counts / counts.sum(1, keepdim=True)\n",
    "probs[0]"
   ]
  },
  {
   "cell_type": "code",
   "execution_count": 375,
   "id": "1d2b2558-784c-4786-bc08-e54ec4845478",
   "metadata": {},
   "outputs": [
    {
     "data": {
      "text/plain": [
       "(torch.Size([5, 27]), torch.Size([5, 27]))"
      ]
     },
     "execution_count": 375,
     "metadata": {},
     "output_type": "execute_result"
    }
   ],
   "source": [
    "probs.shape, ysoh.shape"
   ]
  },
  {
   "cell_type": "markdown",
   "id": "abc9f505-ea51-41a7-be8b-4438054995e2",
   "metadata": {},
   "source": [
    "note that we estimate loss as a mean() over the *entire* 'batch' that we train with"
   ]
  },
  {
   "cell_type": "code",
   "execution_count": 377,
   "id": "c8f57596-149f-4b26-b694-f859a085d190",
   "metadata": {},
   "outputs": [
    {
     "data": {
      "text/plain": [
       "tensor(3.7693)"
      ]
     },
     "execution_count": 377,
     "metadata": {},
     "output_type": "execute_result"
    }
   ],
   "source": [
    "log_likelihood = -(ysoh * probs).sum(1).log().mean()\n",
    "log_likelihood"
   ]
  },
  {
   "cell_type": "markdown",
   "id": "f5096bcc-8a8e-45f8-b492-29714d4b9849",
   "metadata": {},
   "source": [
    "## OK lets actually set things up \n",
    "\n",
    "get a nn, a forward pass and a backward pass"
   ]
  },
  {
   "cell_type": "code",
   "execution_count": 165,
   "id": "f3111ae7-56fe-4fff-a059-88cc7eba9037",
   "metadata": {},
   "outputs": [],
   "source": [
    "W = torch.randn(27, 27, requires_grad=True)"
   ]
  },
  {
   "cell_type": "code",
   "execution_count": 166,
   "id": "ce4e6685-ac8b-4f50-97b7-9eb3049b76e0",
   "metadata": {},
   "outputs": [],
   "source": [
    "W.grad"
   ]
  },
  {
   "cell_type": "code",
   "execution_count": 346,
   "id": "6ffb8da2-b4f2-49cd-abd3-ade2248d57a4",
   "metadata": {},
   "outputs": [],
   "source": [
    "def learn(xs, ys):\n",
    "    logits = xs @ W\n",
    "    ##softmax \n",
    "    probs = logits.exp()\n",
    "    probs = probs / probs.sum(1, keepdim=True)\n",
    "    # i use 1-hot ys, does this matter?\n",
    "    loss = -(ys * probs).sum(1).log().mean()\n",
    "    W.grad = None\n",
    "    loss.backward()\n",
    "    W.data -= learning_rate * W.grad\n",
    "    return loss.data"
   ]
  },
  {
   "cell_type": "code",
   "execution_count": 339,
   "id": "16dead96-ac54-4289-a2d0-89b9f7bc2823",
   "metadata": {},
   "outputs": [],
   "source": [
    "xsoh, ysoh = torchifi(names, 2)"
   ]
  },
  {
   "cell_type": "code",
   "execution_count": 340,
   "id": "2324e138-4683-4e2d-a2c3-88994b2f2800",
   "metadata": {},
   "outputs": [
    {
     "name": "stdout",
     "output_type": "stream",
     "text": [
      "tensor(2.9565)\n"
     ]
    },
    {
     "data": {
      "text/plain": [
       "tensor([ 6.6704e-06,  9.7281e-06,  1.4884e-05,  1.2674e-05,  1.9854e-06,\n",
       "         8.3132e-02,  1.7040e-05,  9.8846e-06,  1.0118e-05,  1.0229e-06,\n",
       "         6.9340e-06,  1.1453e-05,  2.4189e-06,  9.2264e-06,  5.9742e-06,\n",
       "        -8.3332e-02,  8.1999e-06,  7.9935e-06,  3.1213e-06,  6.8020e-06,\n",
       "         6.0038e-06,  2.5890e-06,  5.5962e-06,  1.4353e-05,  1.1167e-05,\n",
       "         6.4005e-06,  6.9928e-06])"
      ]
     },
     "execution_count": 340,
     "metadata": {},
     "output_type": "execute_result"
    }
   ],
   "source": [
    "learn(xsoh, ysoh)\n",
    "W.grad[0]"
   ]
  },
  {
   "cell_type": "markdown",
   "id": "6b8f47b2-46c2-4652-8265-ada4ab39c91a",
   "metadata": {},
   "source": [
    "## sanity check\n",
    "\n",
    "if we feed 'emma' into the network multiple times we should get 'emma', 'ema', 'emmmma' etc out\n",
    "\n",
    "i.e it should always start with 'e' and end with 'a'"
   ]
  },
  {
   "cell_type": "code",
   "execution_count": 369,
   "id": "63d6ebdc-e978-4fd2-8545-862243cf78e6",
   "metadata": {},
   "outputs": [
    {
     "name": "stdout",
     "output_type": "stream",
     "text": [
      "tensor(3.4562)\n",
      "tensor(0.2898)\n",
      "tensor(0.2833)\n",
      "tensor(0.2812)\n"
     ]
    }
   ],
   "source": [
    "W = torch.randn(27, 27, requires_grad=True)\n",
    "xsoh, ysoh = torchifi(names, 1)\n",
    "learning_rate = 1\n",
    "\n",
    "for i in range(1600):\n",
    "    show_loss = learn(xsoh, ysoh)\n",
    "    if i % 400 == 0:\n",
    "        print(show_loss)"
   ]
  },
  {
   "cell_type": "markdown",
   "id": "ccfc8d0d-e7a9-43d0-83ad-c155751ccce2",
   "metadata": {},
   "source": [
    "## generate names\n",
    "\n",
    "to generate names we start with the '.' symbol and loop until we get the '.' symbol again"
   ]
  },
  {
   "cell_type": "code",
   "execution_count": 370,
   "id": "786f9c1c-ec70-4840-80a5-b6aed6d5b165",
   "metadata": {},
   "outputs": [
    {
     "name": "stdout",
     "output_type": "stream",
     "text": [
      "emma\n",
      "emma\n",
      "emmmmmmmma\n",
      "ema\n",
      "ema\n"
     ]
    }
   ],
   "source": [
    "def generate_names(num_names):\n",
    "    for i in range(num_names):\n",
    "        out = []\n",
    "        ix = 0\n",
    "        while True:\n",
    "            xenc = F.one_hot(torch.tensor([ix]), num_classes=27).float()\n",
    "            logits = xenc @ W\n",
    "            counts = logits.exp()\n",
    "            p = counts / counts.sum(1, keepdim=True)\n",
    "    \n",
    "            # print(p)\n",
    "            ## torch.multinomial pulls out an index in p (num_samples=1) by sampling from the elements in p according to their probabilities \n",
    "            ## (p is normalized in the softmax above)\n",
    "            ix = torch.multinomial(p, num_samples=1).item()\n",
    "    \n",
    "            # print(ix)\n",
    "            if ix == 0:\n",
    "                break\n",
    "            out.append(itos[ix])\n",
    "            \n",
    "    \n",
    "        print(\"\".join(out))\n",
    "\n",
    "generate_names(5)"
   ]
  },
  {
   "cell_type": "markdown",
   "id": "e1f1d552-98a6-4a64-aa65-15402967c07f",
   "metadata": {},
   "source": [
    "If we look at the weights we can see the 'm' is the only letter where it's not sure where to go"
   ]
  },
  {
   "cell_type": "code",
   "execution_count": 371,
   "id": "7e35e1be-7914-475e-aae5-55ab0ab3a5c9",
   "metadata": {},
   "outputs": [
    {
     "data": {
      "text/plain": [
       "<matplotlib.image.AxesImage at 0x24a17ded690>"
      ]
     },
     "execution_count": 371,
     "metadata": {},
     "output_type": "execute_result"
    },
    {
     "data": {
      "image/png": "[encoded data removed]",
      "text/plain": [
       "<Figure size 640x480 with 1 Axes>"
      ]
     },
     "metadata": {},
     "output_type": "display_data"
    }
   ],
   "source": [
    "import matplotlib.pyplot as plt\n",
    "wplot = W.exp().data\n",
    "plt.imshow(wplot)"
   ]
  },
  {
   "cell_type": "markdown",
   "id": "917fa492-ecb6-4ebf-8627-b04a054a9d4e",
   "metadata": {},
   "source": [
    "## now lets generate names\n",
    "\n"
   ]
  },
  {
   "cell_type": "code",
   "execution_count": 354,
   "id": "5395a7a6-bc4c-47fe-b32e-972ed1314f39",
   "metadata": {},
   "outputs": [
    {
     "data": {
      "text/plain": [
       "(torch.Size([228146, 27]), torch.Size([228146, 27]))"
      ]
     },
     "execution_count": 354,
     "metadata": {},
     "output_type": "execute_result"
    }
   ],
   "source": [
    "W = torch.randn(27, 27, requires_grad=True)\n",
    "\n",
    "xsoh, ysoh = torchifi(names)\n",
    "\n",
    "xsoh.shape, ysoh.shape"
   ]
  },
  {
   "cell_type": "code",
   "execution_count": 355,
   "id": "7bbeeb03-d287-4944-ba36-5cfab7a18ebb",
   "metadata": {},
   "outputs": [
    {
     "name": "stdout",
     "output_type": "stream",
     "text": [
      "tensor(3.9049)\n",
      "tensor(2.4592)\n",
      "tensor(2.4563)\n",
      "tensor(2.4554)\n",
      "tensor(2.4550)\n",
      "tensor(2.4548)\n",
      "tensor(2.4547)\n",
      "tensor(2.4546)\n",
      "tensor(2.4545)\n",
      "tensor(2.4545)\n"
     ]
    }
   ],
   "source": [
    "learning_rate = 50\n",
    "for i in range(3000):\n",
    "    show_loss = learn(xsoh, ysoh)\n",
    "    if i % 300 == 0:\n",
    "        print(show_loss)"
   ]
  },
  {
   "cell_type": "markdown",
   "id": "63fe6d44-64f6-4e71-bdbf-2aa79db856b8",
   "metadata": {},
   "source": [
    "an adaptive learning rate doesn't seem to make any difference, just slow down learning..."
   ]
  },
  {
   "cell_type": "code",
   "execution_count": 358,
   "id": "1ea3272d-5e46-4b43-9efd-a5bb4c1ce1e2",
   "metadata": {},
   "outputs": [
    {
     "name": "stdout",
     "output_type": "stream",
     "text": [
      "tensor(3.7514)\n",
      "tensor(2.4592)\n",
      "tensor(2.4565)\n",
      "tensor(2.4556)\n",
      "tensor(2.4553)\n",
      "tensor(2.4550)\n",
      "tensor(2.4549)\n",
      "tensor(2.4548)\n",
      "tensor(2.4547)\n",
      "tensor(2.4547)\n"
     ]
    }
   ],
   "source": [
    "W = torch.randn(27, 27, requires_grad=True)\n",
    "learning_rate = 50\n",
    "for i in range(0, 3000):\n",
    "    show_loss = learn(xsoh, ysoh)\n",
    "    if i % 300 == 0:\n",
    "        print(show_loss)\n",
    "        if i != 0:\n",
    "            learning_rate *= .9"
   ]
  },
  {
   "cell_type": "markdown",
   "id": "6a5d15fd-6203-40cd-9466-5bd6d6931f46",
   "metadata": {},
   "source": [
    "maybe its even easier to see if we don't break up the process"
   ]
  },
  {
   "cell_type": "code",
   "execution_count": 391,
   "id": "12249747-0a29-41cd-ac9c-7d9be236dfe4",
   "metadata": {
    "scrolled": true
   },
   "outputs": [
    {
     "name": "stdout",
     "output_type": "stream",
     "text": [
      "tensor(3.7474)\n",
      "tensor(2.4594)\n",
      "tensor(2.4564)\n",
      "tensor(2.4555)\n",
      "tensor(2.4551)\n",
      "tensor(2.4549)\n",
      "tensor(2.4547)\n",
      "tensor(2.4546)\n",
      "tensor(2.4545)\n",
      "tensor(2.4545)\n"
     ]
    }
   ],
   "source": [
    "W = torch.randn(27, 27, requires_grad=True)\n",
    "xs, ys = torchifi(names)\n",
    "learning_rate = 50\n",
    "i = 0\n",
    "\n",
    "for i in range(3000):\n",
    "    logits = xs @ W\n",
    "    ##softmax \n",
    "    probs = logits.exp()\n",
    "    probs = probs / probs.sum(1, keepdim=True)\n",
    "    # use 1hot ys to isolate loss\n",
    "    loss = -(ys * probs).sum(1).log().mean()\n",
    "    \n",
    "    W.grad = None\n",
    "    loss.backward()\n",
    "    W.data -= learning_rate * W.grad\n",
    "\n",
    "    if i % 300 == 0:\n",
    "        print(loss.data)"
   ]
  },
  {
   "cell_type": "markdown",
   "id": "3c9a95e0-29a3-49cd-adec-d767cf1d40ee",
   "metadata": {},
   "source": [
    "## the same as a bigram count model\n",
    "\n",
    "our W matrix after training should look almost identical to a 27x27 count matrix formed from our names"
   ]
  },
  {
   "cell_type": "code",
   "execution_count": 55,
   "id": "992f4d48-cb69-42f8-bed0-56923e0d92f3",
   "metadata": {},
   "outputs": [],
   "source": [
    "Wb = torch.zeros(27, 27)\n",
    "\n",
    "xbs, ybs = train(names)\n",
    "\n",
    "for x, y in zip(xbs, ybs):\n",
    "    Wb[x,y]+=1"
   ]
  },
  {
   "cell_type": "code",
   "execution_count": 363,
   "id": "73fca22f-19c3-450f-b088-0ddaae19cb0d",
   "metadata": {},
   "outputs": [
    {
     "data": {
      "text/plain": [
       "<matplotlib.image.AxesImage at 0x24a184be350>"
      ]
     },
     "execution_count": 363,
     "metadata": {},
     "output_type": "execute_result"
    },
    {
     "data": {
      "image/png": "[encoded data removed]",
      "text/plain": [
       "<Figure size 640x480 with 1 Axes>"
      ]
     },
     "metadata": {},
     "output_type": "display_data"
    }
   ],
   "source": [
    "plt.imshow(Wb)"
   ]
  },
  {
   "cell_type": "code",
   "execution_count": 364,
   "id": "0bbb3df2-b7fd-43f5-8c67-e79504be4ca7",
   "metadata": {},
   "outputs": [
    {
     "data": {
      "text/plain": [
       "<matplotlib.image.AxesImage at 0x24a17f9d090>"
      ]
     },
     "execution_count": 364,
     "metadata": {},
     "output_type": "execute_result"
    },
    {
     "data": {
      "image/png": "[encoded data removed]",
      "text/plain": [
       "<Figure size 640x480 with 1 Axes>"
      ]
     },
     "metadata": {},
     "output_type": "display_data"
    }
   ],
   "source": [
    "wplot = W.exp().data\n",
    "plt.imshow(wplot)"
   ]
  },
  {
   "cell_type": "markdown",
   "id": "485c7db4-0594-4379-bb7b-78bcb9bd36c9",
   "metadata": {},
   "source": [
    "## Similar...\n",
    "\n",
    "but not exact, I was expecting it to be closer \n",
    "\n",
    "but maybe its as much down to how we calculate the image from the data as our logit counts are not the same as real counts"
   ]
  },
  {
   "cell_type": "code",
   "execution_count": 368,
   "id": "95af2cc7-8f76-4c01-b764-98ce83d883b4",
   "metadata": {},
   "outputs": [
    {
     "name": "stdout",
     "output_type": "stream",
     "text": [
      "jqusakelan\n",
      "kenia\n",
      "beyamame\n",
      "zamametaa\n",
      "elee\n",
      "akabre\n",
      "riapria\n",
      "la\n",
      "valin\n",
      "l\n",
      "raimaucxoran\n",
      "kane\n",
      "garo\n",
      "kanta\n",
      "la\n"
     ]
    }
   ],
   "source": [
    "generate_names(15)"
   ]
  },
  {
   "cell_type": "markdown",
   "id": "27a4e82b-f6df-40d8-aef1-e7bfa328668d",
   "metadata": {},
   "source": [
    "## some of those are even real names"
   ]
  }
 ],
 "metadata": {
  "kernelspec": {
   "display_name": "Python 3 (ipykernel)",
   "language": "python",
   "name": "python3"
  },
  "language_info": {
   "codemirror_mode": {
    "name": "ipython",
    "version": 3
   },
   "file_extension": ".py",
   "mimetype": "text/x-python",
   "name": "python",
   "nbconvert_exporter": "python",
   "pygments_lexer": "ipython3",
   "version": "3.11.7"
  }
 },
 "nbformat": 4,
 "nbformat_minor": 5
}
