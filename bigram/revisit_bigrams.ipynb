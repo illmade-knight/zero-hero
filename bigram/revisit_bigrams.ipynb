{
 "cells": [
  {
   "cell_type": "markdown",
   "id": "374abf2e-6933-41d8-9d88-ec0514118664",
   "metadata": {},
   "source": [
    "### OK lets go back through bigram\n",
    "\n",
    "we've learned a bit about setting up tensors and batches and I just want to lock in some of the ideas "
   ]
  },
  {
   "cell_type": "code",
   "execution_count": 2,
   "id": "9995a9a7-e3bf-4679-9e63-e42bc09d7e24",
   "metadata": {},
   "outputs": [],
   "source": [
    "import torch\n",
    "import torch.nn as nn\n",
    "import torch.nn.functional as F"
   ]
  },
  {
   "cell_type": "code",
   "execution_count": 3,
   "id": "7fb566a8-b711-40bb-9642-43fc51f2f43e",
   "metadata": {},
   "outputs": [],
   "source": [
    "%run ../lib/bookreader.py"
   ]
  },
  {
   "cell_type": "code",
   "execution_count": 5,
   "id": "e7ebded0-199c-4469-bf81-f2d490f8b7b3",
   "metadata": {},
   "outputs": [
    {
     "name": "stdout",
     "output_type": "stream",
     "text": [
      "lowercase only\n"
     ]
    },
    {
     "data": {
      "text/plain": [
       "27"
      ]
     },
     "execution_count": 5,
     "metadata": {},
     "output_type": "execute_result"
    }
   ],
   "source": [
    "names = BookReader()\n",
    "names.read(\"../resources/names.txt\")\n",
    "vocab_size = names.vocab_size\n",
    "vocab_size"
   ]
  },
  {
   "cell_type": "markdown",
   "id": "129f6fac-1e92-4016-8444-9cc95524bc64",
   "metadata": {},
   "source": [
    "jsut spell out the mapping from characters to their simple 1D embedding:"
   ]
  },
  {
   "cell_type": "code",
   "execution_count": 6,
   "id": "0efdde63-f0c5-4631-bfa5-7631f37d4744",
   "metadata": {},
   "outputs": [
    {
     "name": "stdout",
     "output_type": "stream",
     "text": [
      "number of symbols 27 lengths of our train, dev, test splits 183300 21600 23025\n"
     ]
    },
    {
     "data": {
      "text/plain": [
       "'0:\\n, 1:a, 2:b, 3:c, 4:d, 5:e, 6:f, 7:g, 8:h, 9:i, 10:j, 11:k, 12:l, 13:m, 14:n, 15:o, 16:p, 17:q, 18:r, 19:s, 20:t, 21:u, 22:v, 23:w, 24:x, 25:y, 26:z, '"
      ]
     },
     "execution_count": 6,
     "metadata": {},
     "output_type": "execute_result"
    }
   ],
   "source": [
    "print(\"number of symbols\", names.vocab_size, \"lengths of our train, dev, test splits\", len(names.data[0]), len(names.data[1]), len(names.data[2]))\n",
    "\n",
    "symbols = \"\"\n",
    "for i, c in enumerate(names.chars):\n",
    "    symbols += f\"{i}:{c}, \"\n",
    "\n",
    "symbols"
   ]
  },
  {
   "cell_type": "markdown",
   "id": "2eb9953d-a3ef-45d3-8390-4930146a0c07",
   "metadata": {},
   "source": [
    "## batch stuff again "
   ]
  },
  {
   "cell_type": "code",
   "execution_count": 7,
   "id": "c37a823a-4856-4eae-a4fb-49873802ad46",
   "metadata": {},
   "outputs": [],
   "source": [
    "def get_labeled_batch(data, context_length=1, label_length=1, batch_size=5):\n",
    "    # generate a small batch of data of inputs x and targets y\n",
    "    ix = torch.randint(len(data) - context_length, (batch_size,))\n",
    "    b = torch.stack([data[i:i+context_length+label_length] for i in ix])\n",
    "    \n",
    "    x = b[:, 0:context_length]\n",
    "    y = b[:, context_length:context_length+label_length]\n",
    "    return x, y"
   ]
  },
  {
   "cell_type": "code",
   "execution_count": 8,
   "id": "135fbd7a-5262-4a9b-ab2d-c93f7616ec0b",
   "metadata": {},
   "outputs": [
    {
     "data": {
      "text/plain": [
       "(tensor([[12],\n",
       "         [14],\n",
       "         [ 3],\n",
       "         [ 1],\n",
       "         [12]]),\n",
       " tensor([[12],\n",
       "         [15],\n",
       "         [ 8],\n",
       "         [19],\n",
       "         [25]]))"
      ]
     },
     "execution_count": 8,
     "metadata": {},
     "output_type": "execute_result"
    }
   ],
   "source": [
    "train = torch.tensor(names.data[0])\n",
    "t_b = get_labeled_batch(train)\n",
    "t_b"
   ]
  },
  {
   "cell_type": "code",
   "execution_count": 9,
   "id": "3ffef699-ea03-4741-9b31-9f22f27667b9",
   "metadata": {},
   "outputs": [
    {
     "data": {
      "text/plain": [
       "torch.Size([27, 27])"
      ]
     },
     "execution_count": 9,
     "metadata": {},
     "output_type": "execute_result"
    }
   ],
   "source": [
    "bigram_weights = torch.randn(vocab_size, vocab_size)\n",
    "bigram_weights.shape"
   ]
  },
  {
   "cell_type": "code",
   "execution_count": 10,
   "id": "8f5c7ee8-bea2-4676-b703-11e33df19e49",
   "metadata": {},
   "outputs": [
    {
     "data": {
      "text/plain": [
       "(tensor([[12],\n",
       "         [14],\n",
       "         [ 3],\n",
       "         [ 1],\n",
       "         [12]]),\n",
       " tensor([[[0, 0, 0, 0, 0, 0, 0, 0, 0, 0, 0, 0, 1, 0, 0, 0, 0, 0, 0, 0, 0, 0, 0,\n",
       "           0, 0, 0, 0]],\n",
       " \n",
       "         [[0, 0, 0, 0, 0, 0, 0, 0, 0, 0, 0, 0, 0, 0, 1, 0, 0, 0, 0, 0, 0, 0, 0,\n",
       "           0, 0, 0, 0]],\n",
       " \n",
       "         [[0, 0, 0, 1, 0, 0, 0, 0, 0, 0, 0, 0, 0, 0, 0, 0, 0, 0, 0, 0, 0, 0, 0,\n",
       "           0, 0, 0, 0]],\n",
       " \n",
       "         [[0, 1, 0, 0, 0, 0, 0, 0, 0, 0, 0, 0, 0, 0, 0, 0, 0, 0, 0, 0, 0, 0, 0,\n",
       "           0, 0, 0, 0]],\n",
       " \n",
       "         [[0, 0, 0, 0, 0, 0, 0, 0, 0, 0, 0, 0, 1, 0, 0, 0, 0, 0, 0, 0, 0, 0, 0,\n",
       "           0, 0, 0, 0]]]))"
      ]
     },
     "execution_count": 10,
     "metadata": {},
     "output_type": "execute_result"
    }
   ],
   "source": [
    "bigram_encoded = F.one_hot(t_b[0], num_classes=27)\n",
    "t_b[0], bigram_encoded"
   ]
  },
  {
   "cell_type": "markdown",
   "id": "93bf93af-0b2f-4f39-bb24-bba28f111c21",
   "metadata": {},
   "source": [
    "## just go over that one_hot stuff\n",
    "\n",
    "so thinking about the interactions of the one_hot and the bigram weight again\n",
    "\n",
    "each example in the batch picks out a single row in the bigram weights"
   ]
  },
  {
   "cell_type": "code",
   "execution_count": 11,
   "id": "17e4113e-ce40-45b3-a3bd-dd365577ae8e",
   "metadata": {},
   "outputs": [
    {
     "data": {
      "text/plain": [
       "(tensor([ 0.3541, -0.3201, -0.3401,  0.2690,  0.3055, -0.3056,  1.0199, -1.2648,\n",
       "          1.7387, -0.6993, -0.4494, -0.3260,  0.8690,  0.2729, -0.3548, -0.2096,\n",
       "         -0.8791,  0.3454, -0.1465,  0.8456,  0.9477,  0.6807, -0.7641,  0.1982,\n",
       "         -0.1490, -0.8013, -0.7173]),\n",
       " tensor([[ 0.0000,  0.0000,  0.0000, -0.0000, -0.0000,  0.0000,  0.0000, -0.0000,\n",
       "          -0.0000,  0.0000, -0.0000, -0.0000, -1.0666,  0.0000,  0.0000,  0.0000,\n",
       "           0.0000, -0.0000,  0.0000, -0.0000,  0.0000, -0.0000, -0.0000, -0.0000,\n",
       "           0.0000, -0.0000,  0.0000],\n",
       "         [-0.0000, -0.0000, -0.0000, -0.0000, -0.0000,  0.0000, -0.0000, -0.0000,\n",
       "          -0.0000, -0.0000,  0.0000, -0.0000, -0.3318, -0.0000,  0.0000,  0.0000,\n",
       "           0.0000,  0.0000, -0.0000, -0.0000, -0.0000, -0.0000,  0.0000,  0.0000,\n",
       "          -0.0000,  0.0000, -0.0000],\n",
       "         [-0.0000, -0.0000,  0.0000,  0.0000,  0.0000,  0.0000,  0.0000, -0.0000,\n",
       "          -0.0000,  0.0000,  0.0000,  0.0000, -0.7716, -0.0000,  0.0000, -0.0000,\n",
       "          -0.0000,  0.0000,  0.0000,  0.0000, -0.0000,  0.0000, -0.0000,  0.0000,\n",
       "          -0.0000, -0.0000,  0.0000],\n",
       "         [ 0.0000,  0.0000,  0.0000, -0.0000, -0.0000,  0.0000,  0.0000, -0.0000,\n",
       "           0.0000,  0.0000,  0.0000, -0.0000,  1.1924,  0.0000,  0.0000,  0.0000,\n",
       "          -0.0000, -0.0000,  0.0000, -0.0000,  0.0000, -0.0000, -0.0000,  0.0000,\n",
       "           0.0000,  0.0000, -0.0000]]))"
      ]
     },
     "execution_count": 11,
     "metadata": {},
     "output_type": "execute_result"
    }
   ],
   "source": [
    "one_row = F.one_hot(t_b[0][0], num_classes=vocab_size)\n",
    "bigram_weights[:, 0], one_row * bigram_weights[:4]"
   ]
  },
  {
   "cell_type": "markdown",
   "id": "e478bbd0-766c-4932-8bf1-095bdd64fd7d",
   "metadata": {},
   "source": [
    "so the prediction will only function across those weights, they're the only things that go into forming the prediction\n",
    "\n",
    "lets set it up so we imagine all the names are 'alice' so 'a' is always followed by 'l'"
   ]
  },
  {
   "cell_type": "code",
   "execution_count": 12,
   "id": "8c981c3e-12d9-4523-a962-033589d24aab",
   "metadata": {},
   "outputs": [
    {
     "name": "stdout",
     "output_type": "stream",
     "text": [
      "torch.Size([27, 27]) torch.Size([1, 27]) torch.Size([27, 27])\n",
      "tensor([[0, 0, 0, 0, 0, 0, 0, 0, 0, 0, 0, 0, 1, 0, 0, 0, 0, 0, 0, 0, 0, 0, 0, 0,\n",
      "         0, 0, 0]]) torch.Size([1, 27])\n"
     ]
    },
    {
     "data": {
      "text/plain": [
       "(tensor([[ 2.4991e-03,  3.4836e-04,  6.5716e-04,  1.9820e-03,  4.4591e-04,\n",
       "           1.9402e-03,  9.4219e-04,  1.4633e-03,  6.3191e-03,  1.8428e-02,\n",
       "           9.1579e-05,  1.6926e-03, -3.4510e-02,  1.8812e-03,  3.2318e-03,\n",
       "           1.6203e-03,  3.1105e-04,  8.8817e-04,  5.7903e-03,  4.1110e-03,\n",
       "           6.1033e-04,  5.5342e-03,  1.5140e-03,  1.2462e-03,  3.2354e-04,\n",
       "           1.4253e-03,  6.1292e-04]]),\n",
       " tensor([[-0.0000, 0.0025, 0.0000, 0.0000, 0.0000, 0.0000, 0.0000, 0.0000, 0.0000,\n",
       "          0.0000, 0.0000, 0.0000, 0.0000, 0.0000, 0.0000, 0.0000, 0.0000, 0.0000,\n",
       "          0.0000, 0.0000, 0.0000, 0.0000, 0.0000, 0.0000, 0.0000, 0.0000, 0.0000],\n",
       "         [-0.0000, 0.0003, 0.0000, 0.0000, 0.0000, 0.0000, 0.0000, 0.0000, 0.0000,\n",
       "          0.0000, 0.0000, 0.0000, 0.0000, 0.0000, 0.0000, 0.0000, 0.0000, 0.0000,\n",
       "          0.0000, 0.0000, 0.0000, 0.0000, 0.0000, 0.0000, 0.0000, 0.0000, 0.0000],\n",
       "         [-0.0000, 0.0007, 0.0000, 0.0000, 0.0000, 0.0000, 0.0000, 0.0000, 0.0000,\n",
       "          0.0000, 0.0000, 0.0000, 0.0000, 0.0000, 0.0000, 0.0000, 0.0000, 0.0000,\n",
       "          0.0000, 0.0000, 0.0000, 0.0000, 0.0000, 0.0000, 0.0000, 0.0000, 0.0000],\n",
       "         [-0.0000, 0.0020, 0.0000, 0.0000, 0.0000, 0.0000, 0.0000, 0.0000, 0.0000,\n",
       "          0.0000, 0.0000, 0.0000, 0.0000, 0.0000, 0.0000, 0.0000, 0.0000, 0.0000,\n",
       "          0.0000, 0.0000, 0.0000, 0.0000, 0.0000, 0.0000, 0.0000, 0.0000, 0.0000]]))"
      ]
     },
     "execution_count": 12,
     "metadata": {},
     "output_type": "execute_result"
    }
   ],
   "source": [
    "bigram_weights.requires_grad = True\n",
    "\n",
    "the_a_row = F.one_hot(torch.tensor(names.encode('a')), num_classes=27)\n",
    "\n",
    "logits = bigram_weights * the_a_row\n",
    "\n",
    "print(bigram_weights.shape, the_a_row.shape, logits.shape)\n",
    "\n",
    "the_expected_answer = F.one_hot(torch.tensor(names.encode('l')), num_classes=27)\n",
    "print(the_expected_answer, the_expected_answer.shape)\n",
    "\n",
    "loss = F.cross_entropy(logits, the_expected_answer.view(-1))\n",
    "\n",
    "bigram_weights.grad = None\n",
    "loss.backward()\n",
    "bigram_weights.grad[:, names.encode('a')].T, bigram_weights.grad[:4]"
   ]
  },
  {
   "cell_type": "markdown",
   "id": "beaaf2e8-cb75-4575-81a5-e4f3ecfdebec",
   "metadata": {},
   "source": [
    "we can see the only gradient is on the 'a' weights in the system\n",
    "\n",
    "## now lets train some batches\n",
    "\n",
    "by batching we can speed up our tensor calculations (well if we used a gpu or metal or whatever)"
   ]
  },
  {
   "cell_type": "code",
   "execution_count": 13,
   "id": "1fc80e19-e52d-4524-bf73-d4226c75ad73",
   "metadata": {},
   "outputs": [
    {
     "name": "stdout",
     "output_type": "stream",
     "text": [
      "torch.Size([3, 1]) torch.Size([3, 1])\n",
      "xs tensor([[[0, 0, 0, 0, 0, 0, 0, 0, 0, 0, 0, 0, 0, 0, 0, 0, 0, 0, 0, 0, 0, 0, 1,\n",
      "          0, 0, 0, 0]],\n",
      "\n",
      "        [[0, 0, 0, 0, 0, 1, 0, 0, 0, 0, 0, 0, 0, 0, 0, 0, 0, 0, 0, 0, 0, 0, 0,\n",
      "          0, 0, 0, 0]],\n",
      "\n",
      "        [[0, 0, 0, 0, 0, 0, 0, 0, 0, 0, 1, 0, 0, 0, 0, 0, 0, 0, 0, 0, 0, 0, 0,\n",
      "          0, 0, 0, 0]]])\n",
      "ys tensor([[[0, 0, 0, 0, 0, 0, 0, 0, 0, 1, 0, 0, 0, 0, 0, 0, 0, 0, 0, 0, 0, 0, 0,\n",
      "          0, 0, 0, 0]],\n",
      "\n",
      "        [[0, 0, 0, 0, 0, 0, 0, 0, 0, 0, 0, 0, 0, 0, 0, 0, 0, 0, 0, 0, 1, 0, 0,\n",
      "          0, 0, 0, 0]],\n",
      "\n",
      "        [[0, 0, 0, 0, 0, 0, 0, 0, 0, 0, 0, 0, 0, 0, 0, 0, 0, 0, 0, 0, 0, 1, 0,\n",
      "          0, 0, 0, 0]]])\n"
     ]
    }
   ],
   "source": [
    "xs, ys = get_labeled_batch(train, 1, 1, 3)\n",
    "print(xs.shape, ys.shape)\n",
    "o_h = F.one_hot(xs, num_classes=vocab_size)\n",
    "labels = F.one_hot(ys, num_classes=vocab_size)\n",
    "print(\"xs\", o_h)\n",
    "print(\"ys\", labels)"
   ]
  },
  {
   "cell_type": "code",
   "execution_count": 14,
   "id": "d11956f5-4ad8-468c-a59d-e426b4b7dc32",
   "metadata": {},
   "outputs": [
    {
     "name": "stdout",
     "output_type": "stream",
     "text": [
      "epoch loss tensor(3.1933, grad_fn=<DivBackward0>)\n",
      "epoch loss tensor(2.8015, grad_fn=<DivBackward0>)\n",
      "epoch loss tensor(2.6802, grad_fn=<DivBackward0>)\n",
      "epoch loss tensor(2.6144, grad_fn=<DivBackward0>)\n",
      "epoch loss tensor(2.5844, grad_fn=<DivBackward0>)\n",
      "epoch loss tensor(2.5656, grad_fn=<DivBackward0>)\n",
      "epoch loss tensor(2.5393, grad_fn=<DivBackward0>)\n",
      "epoch loss tensor(2.5248, grad_fn=<DivBackward0>)\n",
      "epoch loss tensor(2.5264, grad_fn=<DivBackward0>)\n",
      "epoch loss tensor(2.5156, grad_fn=<DivBackward0>)\n",
      "epoch loss tensor(2.5043, grad_fn=<DivBackward0>)\n",
      "epoch loss tensor(2.4924, grad_fn=<DivBackward0>)\n",
      "epoch loss tensor(2.4977, grad_fn=<DivBackward0>)\n",
      "epoch loss tensor(2.4945, grad_fn=<DivBackward0>)\n",
      "epoch loss tensor(2.4851, grad_fn=<DivBackward0>)\n",
      "epoch loss tensor(2.4900, grad_fn=<DivBackward0>)\n",
      "epoch loss tensor(2.4837, grad_fn=<DivBackward0>)\n",
      "epoch loss tensor(2.4835, grad_fn=<DivBackward0>)\n",
      "epoch loss tensor(2.4816, grad_fn=<DivBackward0>)\n",
      "epoch loss tensor(2.4860, grad_fn=<DivBackward0>)\n"
     ]
    }
   ],
   "source": [
    "epochs = 20\n",
    "training_runs = 400\n",
    "batch_size = 80\n",
    "learning_rate = .5\n",
    "bigram_weights = torch.randn((vocab_size, vocab_size), requires_grad=True)\n",
    "for ep in range(epochs):\n",
    "    epoch_loss = 0\n",
    "    for tr in range(training_runs):\n",
    "        xs, ys = get_labeled_batch(train, 1, 1, batch_size)\n",
    "        o_h = F.one_hot(xs, num_classes=vocab_size).float()\n",
    "        logits = o_h @ bigram_weights\n",
    "        labels = F.one_hot(ys, num_classes=vocab_size)\n",
    "    \n",
    "        # reshape because of batches\n",
    "        r_logits = logits.view(-1, vocab_size) \n",
    "        r_labels = labels.view(-1, vocab_size)\n",
    "    \n",
    "        probs = F.softmax(r_logits, 1) \n",
    "        loss = -(r_labels * probs).sum(1).log().mean()\n",
    "\n",
    "        epoch_loss += loss\n",
    "    \n",
    "        bigram_weights.grad = None\n",
    "        loss.backward()\n",
    "        bigram_weights.data -= learning_rate * bigram_weights.grad\n",
    "\n",
    "    print(\"epoch loss\", epoch_loss/training_runs)"
   ]
  },
  {
   "cell_type": "markdown",
   "id": "ecd7d244-7bd5-4512-9aca-3a4818666e8f",
   "metadata": {},
   "source": [
    "### look at train vs dev\n",
    "\n",
    "we want to compare our training loss to the loss on a set of names we haven't yet looked at \n",
    "\n",
    "- we either skipped this first time through or it's covered in a later lecture"
   ]
  },
  {
   "cell_type": "code",
   "execution_count": 15,
   "id": "f8c56d3a-be30-422a-9c15-e4f805433e95",
   "metadata": {},
   "outputs": [],
   "source": [
    "@torch.no_grad()\n",
    "def split_loss(set):\n",
    "    eval_loss = 0\n",
    "    set_len = len(set)\n",
    "    for i in range(set_len-1):\n",
    "        o_h = F.one_hot(set[i], num_classes=vocab_size).float()\n",
    "        logits = o_h @ bigram_weights\n",
    "        labels = F.one_hot(set[i+1], num_classes=vocab_size)\n",
    "        probs = F.softmax(r_logits, 1) \n",
    "        eval_loss += -(r_labels * probs).sum(1).log().mean()\n",
    "\n",
    "    return eval_loss/set_len"
   ]
  },
  {
   "cell_type": "code",
   "execution_count": null,
   "id": "55b6afb9-b8df-4046-b6ff-0d44aeb901f8",
   "metadata": {},
   "outputs": [
    {
     "name": "stdout",
     "output_type": "stream",
     "text": [
      "dev split tensor(2.5858)\n"
     ]
    }
   ],
   "source": [
    "dev = torch.tensor(names.data[1])\n",
    "\n",
    "dev_loss = split_loss(dev)\n",
    "print(\"dev split\", dev_loss)\n",
    "train_loss = split_loss(train)\n",
    "print(\"train split\", train_loss)"
   ]
  },
  {
   "cell_type": "code",
   "execution_count": 15,
   "id": "56611375-c2e6-454d-b63c-2c30f1932d3c",
   "metadata": {},
   "outputs": [
    {
     "data": {
      "text/plain": [
       "<matplotlib.image.AxesImage at 0x1c2f01dd690>"
      ]
     },
     "execution_count": 15,
     "metadata": {},
     "output_type": "execute_result"
    },
    {
     "data": {
      "image/png": "[encoded data removed]",
      "text/plain": [
       "<Figure size 640x480 with 1 Axes>"
      ]
     },
     "metadata": {},
     "output_type": "display_data"
    }
   ],
   "source": [
    "import matplotlib.pyplot as plt\n",
    "wplot = bigram_weights.exp().data\n",
    "plt.imshow(wplot)"
   ]
  }
 ],
 "metadata": {
  "kernelspec": {
   "display_name": "Python 3 (ipykernel)",
   "language": "python",
   "name": "python3"
  },
  "language_info": {
   "codemirror_mode": {
    "name": "ipython",
    "version": 3
   },
   "file_extension": ".py",
   "mimetype": "text/x-python",
   "name": "python",
   "nbconvert_exporter": "python",
   "pygments_lexer": "ipython3",
   "version": "3.11.7"
  }
 },
 "nbformat": 4,
 "nbformat_minor": 5
}
