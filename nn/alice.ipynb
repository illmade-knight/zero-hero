{
 "cells": [
  {
   "cell_type": "markdown",
   "id": "14b5cd7b-bbea-4769-8512-e1c440795bf2",
   "metadata": {},
   "source": [
    "## larger corpus\n",
    "\n",
    "ok apply our network to a larger corpus and see what happens"
   ]
  },
  {
   "cell_type": "markdown",
   "id": "03e7065e-4b63-46d3-9c5c-bdc3ce1f2782",
   "metadata": {},
   "source": [
    "### standard setup\n",
    "\n",
    "but we're readingn alice in wonderland now\n",
    "\n",
    "for the moment we're going to use an input pattern to keep our vocab_size similar to the names file"
   ]
  },
  {
   "cell_type": "code",
   "execution_count": 1,
   "id": "d7eabc6c-08fb-4ae2-b7ab-26f664ad82d4",
   "metadata": {},
   "outputs": [],
   "source": [
    "import torch\n",
    "import torch.nn as nn\n",
    "import torch.nn.functional as F\n",
    "import torch.optim as optim\n",
    "\n",
    "import collections\n",
    "import matplotlib.pyplot as plt"
   ]
  },
  {
   "cell_type": "code",
   "execution_count": 3,
   "id": "4745ac40-30b7-4e76-b0ae-a72e5ea3d498",
   "metadata": {},
   "outputs": [],
   "source": [
    "%run ../lib/bookreader.py"
   ]
  },
  {
   "cell_type": "code",
   "execution_count": 8,
   "id": "33b59c17-863b-4377-ad06-16d8a2babbb6",
   "metadata": {},
   "outputs": [
    {
     "name": "stdout",
     "output_type": "stream",
     "text": [
      "lowercase only\n"
     ]
    },
    {
     "data": {
      "text/plain": [
       "29"
      ]
     },
     "execution_count": 8,
     "metadata": {},
     "output_type": "execute_result"
    }
   ],
   "source": [
    "alice = BookReader()\n",
    "\n",
    "alice.read(\"../resources/alice.txt\")\n",
    "\n",
    "vocab_size = len(alice.itos)\n",
    "vocab_size"
   ]
  },
  {
   "cell_type": "code",
   "execution_count": 17,
   "id": "32da8b1b-1beb-49ae-a277-cb562872f1e6",
   "metadata": {},
   "outputs": [],
   "source": [
    "train = torch.tensor(alice.data[0])"
   ]
  },
  {
   "cell_type": "code",
   "execution_count": 19,
   "id": "6fb85e88-1d3c-47b5-b80d-5a339efb0b29",
   "metadata": {},
   "outputs": [
    {
     "data": {
      "text/plain": [
       "tensor([[17,  7,  8, 21,  1, 26],\n",
       "        [18, 21,  1,  9,  8,  4],\n",
       "        [22,  0, 11, 24, 17, 10],\n",
       "        [15, 15,  8,  7,  1, 26],\n",
       "        [ 8,  7,  1, 20, 24, 12]])"
      ]
     },
     "execution_count": 19,
     "metadata": {},
     "output_type": "execute_result"
    }
   ],
   "source": [
    "alice.get_batch(train, 6)"
   ]
  },
  {
   "cell_type": "markdown",
   "id": "32455bf2-178f-4d5f-b0c2-34341d9baab7",
   "metadata": {},
   "source": [
    "### Neural net lib\n",
    "\n",
    "pull in last sessions classes when we've got them python file read"
   ]
  },
  {
   "cell_type": "code",
   "execution_count": 23,
   "id": "720fce12-d150-4f51-94ff-2f19726be1ef",
   "metadata": {},
   "outputs": [],
   "source": [
    "%run ../lib/simplebook.py"
   ]
  },
  {
   "cell_type": "code",
   "execution_count": 24,
   "id": "353e37de-81c6-4842-98b3-61debceae081",
   "metadata": {},
   "outputs": [],
   "source": [
    "sn = SimpleBook()"
   ]
  }
 ],
 "metadata": {
  "kernelspec": {
   "display_name": "Python 3 (ipykernel)",
   "language": "python",
   "name": "python3"
  },
  "language_info": {
   "codemirror_mode": {
    "name": "ipython",
    "version": 3
   },
   "file_extension": ".py",
   "mimetype": "text/x-python",
   "name": "python",
   "nbconvert_exporter": "python",
   "pygments_lexer": "ipython3",
   "version": "3.11.7"
  }
 },
 "nbformat": 4,
 "nbformat_minor": 5
}
