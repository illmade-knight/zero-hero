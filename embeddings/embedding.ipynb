{
 "cells": [
  {
   "cell_type": "markdown",
   "id": "623a40b8-15f3-474b-b2d8-a2e8a4559672",
   "metadata": {},
   "source": [
    "### add more dimensions\n",
    "\n",
    "in the simple bigram model our letters just had an integer index\n",
    "\n",
    "this time lets say they inhabit a 2 dimensional space, and we can move them around in that space as we train"
   ]
  },
  {
   "cell_type": "code",
   "execution_count": 1,
   "id": "1998a4ba-4781-49c6-93e0-cde038779ab7",
   "metadata": {},
   "outputs": [],
   "source": [
    "import torch\n",
    "import torch.nn.functional as F\n",
    "import torch.nn as nn"
   ]
  },
  {
   "cell_type": "markdown",
   "id": "3892ca21-e72a-45ac-a145-84af5eaba504",
   "metadata": {},
   "source": [
    "a 2D plane is a good start for us to gain some intuitions"
   ]
  },
  {
   "cell_type": "code",
   "execution_count": 2,
   "id": "10e407ab-2f2f-4cfe-908f-8a49d0a50786",
   "metadata": {},
   "outputs": [],
   "source": [
    "vocab_size = 27\n",
    "embedding_size = 2\n",
    "# our embedding space\n",
    "es = torch.randn((vocab_size, embedding_size))"
   ]
  },
  {
   "cell_type": "markdown",
   "id": "8af5a51e-75b2-4604-a010-f56ca756caf7",
   "metadata": {},
   "source": [
    "## character embedding in 2D\n",
    "\n",
    "we our 27x2 tensor to represent the characters\n",
    "\n",
    "again the mapping from character to embedding is simple\n",
    "\n",
    "* a -> is the tensor at es[1]\n",
    "* b -> is the tensor at es[1]"
   ]
  },
  {
   "cell_type": "code",
   "execution_count": 3,
   "id": "334f6638-8720-4bbb-ae02-fe9306bc7f9e",
   "metadata": {},
   "outputs": [
    {
     "name": "stdout",
     "output_type": "stream",
     "text": [
      "a tensor([-0.3800, -1.8813])\n",
      "b tensor([-0.8908,  0.1852])\n"
     ]
    }
   ],
   "source": [
    "print('a', es[1])\n",
    "print('b', es[2])"
   ]
  },
  {
   "cell_type": "markdown",
   "id": "00f8d023-b0ab-4a8b-a9a3-5f85525f09a4",
   "metadata": {},
   "source": [
    "initially these positions are random, they have no learned attributes\n",
    "\n",
    "Will they 'learn' something - if they do then that's pretty encouraging (spoiler they do)"
   ]
  },
  {
   "cell_type": "markdown",
   "id": "7356ceb7-9409-40cd-804d-23aab6488bac",
   "metadata": {
    "jp-MarkdownHeadingCollapsed": true
   },
   "source": [
    "### Run through getting batches again\n",
    "\n",
    "we wrap this up in a lib file soon"
   ]
  },
  {
   "cell_type": "code",
   "execution_count": 4,
   "id": "21bc0bff-e304-42ec-b410-a925d051a7fc",
   "metadata": {},
   "outputs": [],
   "source": [
    "with open(\"../resources/names.txt\", \"r\") as r:\n",
    "    names = [\".\" + f + \".\" for f in r.read().split()]\n",
    "\n",
    "import string\n",
    "letters = [l for l in string.ascii_lowercase]\n",
    "\n",
    "itos = {0: \".\"}\n",
    "stoi = {\".\": 0}\n",
    "\n",
    "for i, l in enumerate(letters):\n",
    "    offset = i+1\n",
    "    stoi[l] = offset\n",
    "    itos[offset] = l\n"
   ]
  },
  {
   "cell_type": "code",
   "execution_count": 5,
   "id": "c4c40a23-9089-409a-9d52-5b5fde7b2f5a",
   "metadata": {},
   "outputs": [
    {
     "data": {
      "text/plain": [
       "['.tessie.', '.roland.']"
      ]
     },
     "execution_count": 5,
     "metadata": {},
     "output_type": "execute_result"
    }
   ],
   "source": [
    "from random import randrange\n",
    "\n",
    "names_length = len(names)\n",
    "\n",
    "def sample_names(size=5):\n",
    "    batch_names = []\n",
    "    for i in range(size):\n",
    "        ni = randrange(names_length-1)\n",
    "        name = names[ni]\n",
    "        batch_names.append(name)\n",
    "    return batch_names\n",
    "\n",
    "sample_names(2)"
   ]
  },
  {
   "cell_type": "code",
   "execution_count": 6,
   "id": "81c38c1d-0dba-4cdf-b5f0-08ea67a88487",
   "metadata": {},
   "outputs": [],
   "source": [
    "def get_xys(samples):\n",
    "    xs, ys = [], []\n",
    "    for s in samples:\n",
    "        em = [stoi[c] for c in s] \n",
    "        for x, y in zip(em, em[1:]):\n",
    "            xs.append(x)\n",
    "            ys.append(y)\n",
    "\n",
    "    return xs, ys\n",
    "\n",
    "train = get_xys(names)"
   ]
  },
  {
   "cell_type": "markdown",
   "id": "34d5387c-4b19-4b8c-8d4b-e141af742c2c",
   "metadata": {},
   "source": [
    "### Weights for the embedding\n",
    "\n",
    "Our weights look pretty different this time: remember before we just used a 27x27 tensor.\n",
    "\n",
    "Now our input tensor is 27x2 so we want a weights vector of shape 2x_ where _ is the number of neurons in our layer\n",
    "\n",
    "### Neurons \n",
    "\n",
    "In our simple bigram model we didn't really think of the weights in terms of neurons and activations.\n",
    "\n",
    "Now we have our 2D representation of characters our network looks pretty different.\n",
    "\n",
    "Our neurons also have a new bias term (not the other bias in ML as in bias and variance) \n",
    "\n",
    "combined this is a Linear layer, it's a tensor of linear equations (y1 = x1 + b1, y2 = x2 + b2, etc\n",
    "\n",
    "so for a 10 neuron linear layer to act on our 2D embeddings we get:"
   ]
  },
  {
   "cell_type": "code",
   "execution_count": 7,
   "id": "93823ff9-39e1-41fa-b772-050bd2ff515c",
   "metadata": {},
   "outputs": [],
   "source": [
    "embedding_size = 2\n",
    "num_neurons = 10\n",
    "\n",
    "W = torch.randn(embedding_size, num_neurons)\n",
    "b = torch.randn(num_neurons)"
   ]
  },
  {
   "cell_type": "markdown",
   "id": "a9e10180-4f80-45ed-8492-77a7be036f04",
   "metadata": {},
   "source": [
    "## so we could show these\n",
    "\n",
    "by taking 2 'x' inputs and getting 'y' outputs we'll be able to plot 5 lines"
   ]
  },
  {
   "cell_type": "code",
   "execution_count": 8,
   "id": "dc31b17a-12dc-4a47-b0ec-c830519d596c",
   "metadata": {},
   "outputs": [
    {
     "data": {
      "text/plain": [
       "(tensor([ 1.1892, -2.8741,  0.6369, -0.1159,  1.3788, -2.6454, -3.4522, -0.3040,\n",
       "          0.7521,  2.3771]),\n",
       " 1.1891674995422363)"
      ]
     },
     "execution_count": 8,
     "metadata": {},
     "output_type": "execute_result"
    }
   ],
   "source": [
    "linspace1  = torch.tensor([1,2], dtype=torch.float)\n",
    "\n",
    "linspace2 = linspace1 @ W + b\n",
    "\n",
    "linspace2, linspace2[0].data.item()"
   ]
  },
  {
   "cell_type": "code",
   "execution_count": 9,
   "id": "a11170ae-3b4c-48dc-83d8-099e0a32a620",
   "metadata": {},
   "outputs": [
    {
     "data": {
      "image/png": "[encoded data removed]",
      "text/plain": [
       "<Figure size 640x480 with 1 Axes>"
      ]
     },
     "metadata": {},
     "output_type": "display_data"
    }
   ],
   "source": [
    "import matplotlib.pyplot as plt\n",
    "\n",
    "for i in range(5):\n",
    "    plt.axline((1, linspace2[i*2].data.item()), (2, linspace2[i*2+1].data.item()))"
   ]
  },
  {
   "cell_type": "markdown",
   "id": "7e63008b-ff61-4d34-9fda-a8f859e7b6d9",
   "metadata": {},
   "source": [
    "Not very informative but...\n",
    "\n",
    "### Anyway onto the non-linearity\n",
    "\n",
    "these 'shape' the output of our linear layer and increase the networks ability to learn a more complex fit to the data\n",
    "\n",
    "#### and lets get some training data\n",
    "\n",
    "our train above has characters and their training labels, we need to get the embeddings for these from the embedding space (es above)\n",
    "\n",
    "lets start with 20 examples"
   ]
  },
  {
   "cell_type": "code",
   "execution_count": 10,
   "id": "3802866f-667a-4d81-a853-6118c8ec5aa6",
   "metadata": {},
   "outputs": [],
   "source": [
    "example_size = 20\n",
    "embedded = es[train[0][:example_size]]"
   ]
  },
  {
   "cell_type": "code",
   "execution_count": 11,
   "id": "13ad659f-65cf-45df-9596-cc45fcd59c92",
   "metadata": {},
   "outputs": [
    {
     "data": {
      "text/plain": [
       "torch.Size([20, 10])"
      ]
     },
     "execution_count": 11,
     "metadata": {},
     "output_type": "execute_result"
    }
   ],
   "source": [
    "outputL1 = torch.tanh(embedded @ W + b)\n",
    "outputL1.shape"
   ]
  },
  {
   "cell_type": "markdown",
   "id": "d5b4f292-2320-4402-b3d0-d65a41654238",
   "metadata": {},
   "source": [
    "### how do we compare to our labels\n",
    "\n",
    "we'll need to map back to something that looks like our vocab so we can generate a loss\n",
    "\n",
    "we do this simply with another linear layer of output size: vocab_size"
   ]
  },
  {
   "cell_type": "code",
   "execution_count": 12,
   "id": "94c22ceb-5c9e-48d3-a587-bcf47a72c146",
   "metadata": {},
   "outputs": [],
   "source": [
    "W2 = torch.randn(num_neurons, vocab_size)\n",
    "b2 = torch.randn(vocab_size)"
   ]
  },
  {
   "cell_type": "code",
   "execution_count": 13,
   "id": "e2db7c3a-d9e2-4e02-8cf8-33e7ce74f4d0",
   "metadata": {},
   "outputs": [
    {
     "data": {
      "text/plain": [
       "torch.Size([20, 27])"
      ]
     },
     "execution_count": 13,
     "metadata": {},
     "output_type": "execute_result"
    }
   ],
   "source": [
    "logits = outputL1 @ W2 + b2\n",
    "logits.shape"
   ]
  },
  {
   "cell_type": "markdown",
   "id": "29710794-d912-487b-b597-c0d28dfdcf69",
   "metadata": {},
   "source": [
    "### so we've put 20 inputs through the network and we wantto compare with our prediction labels\n",
    "\n",
    "our logits are non normalized probabilites for our labels\n",
    "\n",
    "they're now in the same 'space' as our labels and we'll be able to calculate the difference between what the network has picked out as \n",
    "the next likely character and the real next character"
   ]
  },
  {
   "cell_type": "code",
   "execution_count": 14,
   "id": "90071fc9-cd42-44f9-aac4-be6982624c6e",
   "metadata": {},
   "outputs": [
    {
     "data": {
      "text/plain": [
       "[5, 13, 13, 1, 0, 15, 12, 9, 22, 9, 1, 0, 1, 22, 1, 0, 9, 19, 1, 2]"
      ]
     },
     "execution_count": 14,
     "metadata": {},
     "output_type": "execute_result"
    }
   ],
   "source": [
    "labels = train[1][:example_size]\n",
    "labels"
   ]
  },
  {
   "cell_type": "markdown",
   "id": "ab9159a1-4de0-490f-a6b1-9f9577538487",
   "metadata": {},
   "source": [
    "### Counts Probabilities\n",
    "\n",
    "first we generate counts by taking the exp() of our logits\n",
    "\n",
    "this also ensures we have all positive probabilities\n",
    "\n",
    "for each x we can look at the probablities\n",
    "\n",
    "lets look at the first character input and print out the probabilities, the top probability and the position of that probability"
   ]
  },
  {
   "cell_type": "code",
   "execution_count": 17,
   "id": "a6336265-f268-4d55-83d1-bac615ce9032",
   "metadata": {},
   "outputs": [
    {
     "data": {
      "text/plain": [
       "(tensor([3.0321e-01, 2.5420e-02, 2.2236e+00, 4.4441e+00, 6.2367e-01, 1.3042e+02,\n",
       "         2.1561e+00, 1.4782e+02, 6.1671e+01, 5.2812e-03, 5.7924e+00, 1.3263e+00,\n",
       "         3.2467e+01, 5.8708e+01, 1.7662e-02, 3.3966e+00, 1.9100e+00, 3.1831e-01,\n",
       "         1.1187e+00, 6.6565e-01, 2.8459e-02, 6.7151e-02, 1.3049e+00, 8.3640e-01,\n",
       "         7.0611e+00, 3.3212e-01, 9.3277e+00]),\n",
       " tensor(147.8236),\n",
       " 'g')"
      ]
     },
     "execution_count": 17,
     "metadata": {},
     "output_type": "execute_result"
    }
   ],
   "source": [
    "first_counts = logits[0].exp()\n",
    "top_prob = first_counts.max()\n",
    "prediction = torch.nonzero(first_counts == top_prob, as_tuple=True)[0].item()\n",
    "first_counts, top_prob, itos[prediction]"
   ]
  },
  {
   "cell_type": "markdown",
   "id": "7d26be61-6d65-42ab-9b27-c545c60f071a",
   "metadata": {},
   "source": [
    "### cross entropy\n",
    "\n",
    "we predict a bunch of probabilites and so end up with what we think is a possible distribution \n",
    "\n",
    "we want the difference between this and the real values from our labels so we find a cross entropy loss from all our losses"
   ]
  },
  {
   "cell_type": "code",
   "execution_count": 18,
   "id": "d6afd3db-638e-4345-86c8-0e9099f533a1",
   "metadata": {},
   "outputs": [
    {
     "data": {
      "text/plain": [
       "tensor(7.7730)"
      ]
     },
     "execution_count": 18,
     "metadata": {},
     "output_type": "execute_result"
    }
   ],
   "source": [
    "counts = logits.exp()\n",
    "\n",
    "# normalize our counts\n",
    "prob = counts / counts.sum(1, keepdims=True)\n",
    "\n",
    "# this just picks out the prediction value for each label\n",
    "total_loss = -prob[torch.arange(example_size), labels].log()\n",
    "\n",
    "loss = total_loss.mean()\n",
    "\n",
    "loss"
   ]
  },
  {
   "cell_type": "markdown",
   "id": "79fa1191-27b6-4f65-b48a-114d1b1ce261",
   "metadata": {},
   "source": [
    "## OK lets set things up for a real run\n",
    "\n",
    "we create our embeddings, a first linear layer which we'll use with a non-linearity, and a second linear layer to project back to our vocab labels"
   ]
  },
  {
   "cell_type": "code",
   "execution_count": 20,
   "id": "7cd98882-38fe-49bb-a461-033d0c4256ca",
   "metadata": {},
   "outputs": [],
   "source": [
    "es = torch.randn((27, 2), requires_grad=True)\n",
    "W = torch.randn((2, 100), requires_grad=True)\n",
    "b = torch.randn(100, requires_grad=True)\n",
    "W2 = torch.randn((100, 27), requires_grad=True)\n",
    "b2 = torch.randn(27, requires_grad=True)\n",
    "\n",
    "parameters = [es, W, b, W2, b2]"
   ]
  },
  {
   "cell_type": "markdown",
   "id": "06fbc502-3ae7-427c-8569-77ed91001242",
   "metadata": {},
   "source": [
    "## OK lets run this and see what happens...\n",
    "\n",
    "when we run our system we'll calculate a loss over all our training examples at once\n",
    "\n",
    "we'll shortcut the softmax calculations and push everything into torch's cross_entropy loss function\n",
    "\n",
    "F.cross_entropy does exactly the same thing but optimized"
   ]
  },
  {
   "cell_type": "code",
   "execution_count": 21,
   "id": "88c86409-6c7a-43b1-ab79-f74c43964fe6",
   "metadata": {},
   "outputs": [],
   "source": [
    "names_length = len(names)\n",
    "epochs = 70\n",
    "batch_size = 300\n",
    "learning_rate = 2\n",
    "samples = 1000 #in future we want our epoch to roughly sample everything - names_length / batch_size"
   ]
  },
  {
   "cell_type": "code",
   "execution_count": 22,
   "id": "9035d60c-d95d-4871-88b8-3ffdcfa061c3",
   "metadata": {},
   "outputs": [
    {
     "name": "stdout",
     "output_type": "stream",
     "text": [
      "tensor(7.1752, grad_fn=<DivBackward0>)\n",
      "0 1.9\n",
      "tensor(2.4704, grad_fn=<DivBackward0>)\n",
      "10 1.1376001845529191\n",
      "tensor(2.4633, grad_fn=<DivBackward0>)\n",
      "20 0.6811232525762293\n",
      "tensor(2.4603, grad_fn=<DivBackward0>)\n",
      "30 0.40781365149158066\n",
      "tensor(2.4588, grad_fn=<DivBackward0>)\n",
      "40 0.24417309747369587\n",
      "tensor(2.4584, grad_fn=<DivBackward0>)\n",
      "50 0.14619545302575496\n",
      "tensor(2.4571, grad_fn=<DivBackward0>)\n",
      "60 0.08753261807520867\n"
     ]
    }
   ],
   "source": [
    "for ep in range(epochs):\n",
    "    epoch_loss = 0\n",
    "    for s in range(samples):\n",
    "        x, y = get_xys(sample_names(batch_size))\n",
    "        Y = torch.tensor(y)\n",
    "        train = es[x]\n",
    "        outputL1 = torch.tanh(train @ W + b)\n",
    "        logits = outputL1 @ W2 + b2\n",
    "\n",
    "        loss = F.cross_entropy(logits, Y)\n",
    "\n",
    "        epoch_loss += loss\n",
    "\n",
    "        es.grad = None\n",
    "        W.grad = None\n",
    "        b.grad = None\n",
    "        W2.grad = None\n",
    "        b2.grad = None\n",
    "        \n",
    "        loss.backward()\n",
    "        es.data -=learning_rate * es.grad\n",
    "        W.data -= learning_rate * W.grad\n",
    "        b.data -= learning_rate * b.grad\n",
    "        W2.data -= learning_rate * W2.grad\n",
    "        b2.data -= learning_rate * b2.grad\n",
    "    learning_rate *= .95\n",
    "\n",
    "    if ep % 10 == 0:\n",
    "        print(epoch_loss/samples)\n",
    "        print(ep, learning_rate)"
   ]
  },
  {
   "cell_type": "code",
   "execution_count": 23,
   "id": "6466eaa0-86ee-48fa-b805-9a3bb3fa545d",
   "metadata": {},
   "outputs": [],
   "source": [
    "def generate_names(num_names):\n",
    "    for i in range(num_names):\n",
    "        out = []\n",
    "        ix = 0\n",
    "        for nl in range(20):\n",
    "            xenc = es[ix]\n",
    "            \n",
    "            outputL1 = torch.tanh(xenc @ W + b)\n",
    "            logits = outputL1 @ W2 + b2\n",
    "            \n",
    "            counts = logits.exp()\n",
    "            \n",
    "            p = counts / counts.sum(0, keepdim=True)\n",
    "    \n",
    "            ## torch.multinomial pulls out an index in p (num_samples=1) by sampling from the elements in p according to their probabilities \n",
    "            ## (p is normalized in the softmax above)\n",
    "            ix = torch.multinomial(p, num_samples=1).item()\n",
    "    \n",
    "            if ix == 0:\n",
    "                break\n",
    "            out.append(itos[ix])\n",
    "            \n",
    "        print(\"\".join(out))"
   ]
  },
  {
   "cell_type": "code",
   "execution_count": 24,
   "id": "964cdce5-effd-45a8-be31-2a37ad9ac7c7",
   "metadata": {},
   "outputs": [
    {
     "name": "stdout",
     "output_type": "stream",
     "text": [
      "sa\n",
      "a\n",
      "ryloe\n",
      "jaaberyaxsinoel\n",
      "sabeti\n",
      "ida\n",
      "ssilesibyn\n",
      "ch\n",
      "a\n",
      "kilakimaari\n"
     ]
    }
   ],
   "source": [
    "generate_names(10)"
   ]
  },
  {
   "cell_type": "code",
   "execution_count": 25,
   "id": "c9ee12d6-6c1b-4ac3-a2b8-83ffa27607d4",
   "metadata": {},
   "outputs": [
    {
     "data": {
      "image/png": "[encoded data removed]",
      "text/plain": [
       "<Figure size 640x480 with 1 Axes>"
      ]
     },
     "metadata": {},
     "output_type": "display_data"
    }
   ],
   "source": [
    "x = es.T[0].tolist()\n",
    "y = es.T[1].tolist()\n",
    "n = ['.'] + letters\n",
    "\n",
    "fig, ax = plt.subplots()\n",
    "ax.scatter(x, y)\n",
    "\n",
    "for i, txt in enumerate(n):\n",
    "    ax.annotate(txt, (x[i], y[i]))"
   ]
  },
  {
   "cell_type": "markdown",
   "id": "5e310bc6-ce49-4c3c-951e-a60ecdbd1004",
   "metadata": {},
   "source": [
    "## Not very impressive\n",
    "\n",
    "our network got more powerful but we didn't really learn anything more than the other models\n",
    "\n",
    "we're still just trying to predict one letter given the preceeding letter and there's no more information available in our\n",
    "new system - in the next part we'll add [sequences](../sequences) of input characters to predict outputs"
   ]
  }
 ],
 "metadata": {
  "kernelspec": {
   "display_name": "Python 3 (ipykernel)",
   "language": "python",
   "name": "python3"
  },
  "language_info": {
   "codemirror_mode": {
    "name": "ipython",
    "version": 3
   },
   "file_extension": ".py",
   "mimetype": "text/x-python",
   "name": "python",
   "nbconvert_exporter": "python",
   "pygments_lexer": "ipython3",
   "version": "3.11.7"
  }
 },
 "nbformat": 4,
 "nbformat_minor": 5
}
